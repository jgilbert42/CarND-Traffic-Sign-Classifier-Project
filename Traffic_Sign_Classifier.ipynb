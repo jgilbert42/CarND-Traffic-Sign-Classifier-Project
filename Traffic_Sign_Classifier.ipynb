{
 "cells": [
  {
   "cell_type": "markdown",
   "metadata": {
    "deletable": true,
    "editable": true
   },
   "source": [
    "# Self-Driving Car Engineer Nanodegree\n",
    "\n",
    "## Deep Learning\n",
    "\n",
    "## Project: Build a Traffic Sign Recognition Classifier\n",
    "\n",
    "In this notebook, a template is provided for you to implement your functionality in stages, which is required to successfully complete this project. If additional code is required that cannot be included in the notebook, be sure that the Python code is successfully imported and included in your submission if necessary. \n",
    "\n",
    "> **Note**: Once you have completed all of the code implementations, you need to finalize your work by exporting the iPython Notebook as an HTML document. Before exporting the notebook to html, all of the code cells need to have been run so that reviewers can see the final implementation and output. You can then export the notebook by using the menu above and navigating to  \\n\",\n",
    "    \"**File -> Download as -> HTML (.html)**. Include the finished document along with this notebook as your submission. \n",
    "\n",
    "In addition to implementing code, there is a writeup to complete. The writeup should be completed in a separate file, which can be either a markdown file or a pdf document. There is a [write up template](https://github.com/udacity/CarND-Traffic-Sign-Classifier-Project/blob/master/writeup_template.md) that can be used to guide the writing process. Completing the code template and writeup template will cover all of the [rubric points](https://review.udacity.com/#!/rubrics/481/view) for this project.\n",
    "\n",
    "The [rubric](https://review.udacity.com/#!/rubrics/481/view) contains \"Stand Out Suggestions\" for enhancing the project beyond the minimum requirements. The stand out suggestions are optional. If you decide to pursue the \"stand out suggestions\", you can include the code in this Ipython notebook and also discuss the results in the writeup file.\n",
    "\n",
    "\n",
    ">**Note:** Code and Markdown cells can be executed using the **Shift + Enter** keyboard shortcut. In addition, Markdown cells can be edited by typically double-clicking the cell to enter edit mode."
   ]
  },
  {
   "cell_type": "markdown",
   "metadata": {
    "deletable": true,
    "editable": true
   },
   "source": [
    "---\n",
    "## Step 0: Load The Data"
   ]
  },
  {
   "cell_type": "code",
   "execution_count": 2,
   "metadata": {
    "collapsed": false,
    "deletable": true,
    "editable": true
   },
   "outputs": [],
   "source": [
    "# Load pickled data\n",
    "import pickle\n",
    "\n",
    "# TODO: Fill this in based on where you saved the training and testing data\n",
    "\n",
    "training_file = 'data/train.p'\n",
    "validation_file= 'data/valid.p'\n",
    "testing_file = 'data/test.p'\n",
    "\n",
    "with open(training_file, mode='rb') as f:\n",
    "    train = pickle.load(f)\n",
    "with open(validation_file, mode='rb') as f:\n",
    "    valid = pickle.load(f)\n",
    "with open(testing_file, mode='rb') as f:\n",
    "    test = pickle.load(f)\n",
    "    \n",
    "X_train, y_train = train['features'], train['labels']\n",
    "X_valid, y_valid = valid['features'], valid['labels']\n",
    "X_test, y_test = test['features'], test['labels']\n",
    "need_preprocess = True"
   ]
  },
  {
   "cell_type": "markdown",
   "metadata": {
    "deletable": true,
    "editable": true
   },
   "source": [
    "---\n",
    "\n",
    "## Step 1: Dataset Summary & Exploration\n",
    "\n",
    "The pickled data is a dictionary with 4 key/value pairs:\n",
    "\n",
    "- `'features'` is a 4D array containing raw pixel data of the traffic sign images, (num examples, width, height, channels).\n",
    "- `'labels'` is a 1D array containing the label/class id of the traffic sign. The file `signnames.csv` contains id -> name mappings for each id.\n",
    "- `'sizes'` is a list containing tuples, (width, height) representing the the original width and height the image.\n",
    "- `'coords'` is a list containing tuples, (x1, y1, x2, y2) representing coordinates of a bounding box around the sign in the image. **THESE COORDINATES ASSUME THE ORIGINAL IMAGE. THE PICKLED DATA CONTAINS RESIZED VERSIONS (32 by 32) OF THESE IMAGES**\n",
    "\n",
    "Complete the basic data summary below. Use python, numpy and/or pandas methods to calculate the data summary rather than hard coding the results. For example, the [pandas shape method](http://pandas.pydata.org/pandas-docs/stable/generated/pandas.DataFrame.shape.html) might be useful for calculating some of the summary results. "
   ]
  },
  {
   "cell_type": "markdown",
   "metadata": {
    "deletable": true,
    "editable": true
   },
   "source": [
    "### Provide a Basic Summary of the Data Set Using Python, Numpy and/or Pandas"
   ]
  },
  {
   "cell_type": "code",
   "execution_count": 3,
   "metadata": {
    "collapsed": false,
    "deletable": true,
    "editable": true
   },
   "outputs": [
    {
     "name": "stdout",
     "output_type": "stream",
     "text": [
      "Number of training examples = 34799\n",
      "Number of testing examples = 12630\n",
      "Image data shape = (32, 32, 3)\n",
      "Number of classes = 43\n",
      "Classes count =  [ 180 1980 2010 1260 1770 1650  360 1290 1260 1320 1800 1170 1890 1920  690\n",
      "  540  360  990 1080  180  300  270  330  450  240 1350  540  210  480  240\n",
      "  390  690  210  599  360 1080  330  180 1860  270  300  210  210]\n"
     ]
    }
   ],
   "source": [
    "### Replace each question mark with the appropriate value. \n",
    "### Use python, pandas or numpy methods rather than hard coding the results\n",
    "import numpy as np\n",
    "\n",
    "# TODO: Number of training examples\n",
    "n_train = len(X_train)\n",
    "\n",
    "# TODO: Number of testing examples.\n",
    "n_test = len(X_test)\n",
    "\n",
    "# TODO: What's the shape of an traffic sign image?\n",
    "image_shape = X_train[0].shape\n",
    "\n",
    "unique_classes, classes_count = np.unique(y_train, return_counts=True)\n",
    "# TODO: How many unique classes/labels there are in the dataset.\n",
    "n_classes = len(unique_classes)\n",
    "\n",
    "print(\"Number of training examples =\", n_train)\n",
    "print(\"Number of testing examples =\", n_test)\n",
    "print(\"Image data shape =\", image_shape)\n",
    "print(\"Number of classes =\", n_classes)\n",
    "print(\"Classes count = \", classes_count)"
   ]
  },
  {
   "cell_type": "markdown",
   "metadata": {
    "deletable": true,
    "editable": true
   },
   "source": [
    "### Include an exploratory visualization of the dataset"
   ]
  },
  {
   "cell_type": "markdown",
   "metadata": {
    "deletable": true,
    "editable": true
   },
   "source": [
    "Visualize the German Traffic Signs Dataset using the pickled file(s). This is open ended, suggestions include: plotting traffic sign images, plotting the count of each sign, etc.\n",
    "\n",
    "The [Matplotlib](http://matplotlib.org/) [examples](http://matplotlib.org/examples/index.html) and [gallery](http://matplotlib.org/gallery.html) pages are a great resource for doing visualizations in Python.\n",
    "\n",
    "**NOTE:** It's recommended you start with something simple first. If you wish to do more, come back to it after you've completed the rest of the sections."
   ]
  },
  {
   "cell_type": "code",
   "execution_count": 4,
   "metadata": {
    "collapsed": false,
    "deletable": true,
    "editable": true,
    "scrolled": true
   },
   "outputs": [
    {
     "name": "stdout",
     "output_type": "stream",
     "text": [
      "Speed limit (120km/h)\n"
     ]
    },
    {
     "data": {
      "image/png": "[encoded data removed]",
      "text/plain": [
       "<matplotlib.figure.Figure at 0x7f033c38f390>"
      ]
     },
     "metadata": {},
     "output_type": "display_data"
    },
    {
     "name": "stdout",
     "output_type": "stream",
     "text": [
      "Vehicles over 3.5 metric tons prohibited\n"
     ]
    },
    {
     "data": {
      "image/png": "[encoded data removed]",
      "text/plain": [
       "<matplotlib.figure.Figure at 0x7f0308419e80>"
      ]
     },
     "metadata": {},
     "output_type": "display_data"
    },
    {
     "name": "stdout",
     "output_type": "stream",
     "text": [
      "Priority road\n"
     ]
    },
    {
     "data": {
      "image/png": "[encoded data removed]",
      "text/plain": [
       "<matplotlib.figure.Figure at 0x7f03083832b0>"
      ]
     },
     "metadata": {},
     "output_type": "display_data"
    },
    {
     "name": "stdout",
     "output_type": "stream",
     "text": [
      "Road work\n"
     ]
    },
    {
     "data": {
      "image/png": "[encoded data removed]",
      "text/plain": [
       "<matplotlib.figure.Figure at 0x7f03083a6eb8>"
      ]
     },
     "metadata": {},
     "output_type": "display_data"
    },
    {
     "name": "stdout",
     "output_type": "stream",
     "text": [
      "End of no passing by vehicles over 3.5 metric tons\n"
     ]
    },
    {
     "data": {
      "image/png": "[encoded data removed]",
      "text/plain": [
       "<matplotlib.figure.Figure at 0x7f03082dfe80>"
      ]
     },
     "metadata": {},
     "output_type": "display_data"
    }
   ],
   "source": [
    "### Data exploration visualization code goes here.\n",
    "### Feel free to use as many code cells as needed.\n",
    "import matplotlib.pyplot as plt\n",
    "# Visualizations will be shown in the notebook.\n",
    "%matplotlib inline\n",
    "\n",
    "import csv\n",
    "sign_labels = {}\n",
    "with open('signnames.csv', 'r') as file:\n",
    "    # probably a better way to do this, but I'm not a python programmer\n",
    "    r = csv.reader(file)\n",
    "    first = True\n",
    "    for row in r:\n",
    "        if first:\n",
    "            first = False\n",
    "            continue\n",
    "            \n",
    "        sign_labels[int(row[0])] = row[1]\n",
    "\n",
    "#print(sign_labels)\n",
    "\n",
    "import random\n",
    "import time\n",
    "for i in range(5):\n",
    "    index = random.randint(0, len(X_train))\n",
    "    plt.imshow(X_train[index])\n",
    "    print(sign_labels[y_train[index]])\n",
    "    plt.show()\n"
   ]
  },
  {
   "cell_type": "markdown",
   "metadata": {
    "deletable": true,
    "editable": true
   },
   "source": [
    "----\n",
    "\n",
    "## Step 2: Design and Test a Model Architecture\n",
    "\n",
    "Design and implement a deep learning model that learns to recognize traffic signs. Train and test your model on the [German Traffic Sign Dataset](http://benchmark.ini.rub.de/?section=gtsrb&subsection=dataset).\n",
    "\n",
    "There are various aspects to consider when thinking about this problem:\n",
    "\n",
    "- Neural network architecture\n",
    "- Play around preprocessing techniques (normalization, rgb to grayscale, etc)\n",
    "- Number of examples per label (some have more than others).\n",
    "- Generate fake data.\n",
    "\n",
    "Here is an example of a [published baseline model on this problem](http://yann.lecun.com/exdb/publis/pdf/sermanet-ijcnn-11.pdf). It's not required to be familiar with the approach used in the paper but, it's good practice to try to read papers like these.\n",
    "\n",
    "**NOTE:** The LeNet-5 implementation shown in the [classroom](https://classroom.udacity.com/nanodegrees/nd013/parts/fbf77062-5703-404e-b60c-95b78b2f3f9e/modules/6df7ae49-c61c-4bb2-a23e-6527e69209ec/lessons/601ae704-1035-4287-8b11-e2c2716217ad/concepts/d4aca031-508f-4e0b-b493-e7b706120f81) at the end of the CNN lesson is a solid starting point. You'll have to change the number of classes and possibly the preprocessing, but aside from that it's plug and play!"
   ]
  },
  {
   "cell_type": "markdown",
   "metadata": {
    "deletable": true,
    "editable": true
   },
   "source": [
    "### Pre-process the Data Set (normalization, grayscale, etc.)"
   ]
  },
  {
   "cell_type": "markdown",
   "metadata": {
    "deletable": true,
    "editable": true
   },
   "source": [
    "Use the code cell (or multiple code cells, if necessary) to implement the first step of your project."
   ]
  },
  {
   "cell_type": "code",
   "execution_count": 5,
   "metadata": {
    "collapsed": false,
    "deletable": true,
    "editable": true,
    "scrolled": false
   },
   "outputs": [
    {
     "name": "stdout",
     "output_type": "stream",
     "text": [
      "preprocessing X_train\n",
      "preprocessing X_valid\n",
      "preprocessing X_test\n"
     ]
    }
   ],
   "source": [
    "### Preprocess the data here. Preprocessing steps could include normalization, converting to grayscale, etc.\n",
    "### Feel free to use as many code cells as needed.\n",
    "\n",
    "# convert X_train, X_valid, and X_test to grayscale.  Appear to be RGB since plt.imshow looks correct.\n",
    "# probably should've saved this to a different variable since it can't be done every time.\n",
    "\n",
    "def preprocess(x):\n",
    "    return (x - 128.0)/128\n",
    "\n",
    "if need_preprocess:\n",
    "    print(\"preprocessing X_train\")\n",
    "    X_train = preprocess(X_train)\n",
    "    print(\"preprocessing X_valid\")\n",
    "    X_valid = preprocess(X_valid)\n",
    "    print(\"preprocessing X_test\")\n",
    "    X_test = preprocess(X_test)\n",
    "    need_preprocess = False\n"
   ]
  },
  {
   "cell_type": "markdown",
   "metadata": {
    "deletable": true,
    "editable": true
   },
   "source": [
    "### Model Architecture"
   ]
  },
  {
   "cell_type": "code",
   "execution_count": 6,
   "metadata": {
    "collapsed": false
   },
   "outputs": [],
   "source": [
    "import tensorflow as tf\n",
    "\n",
    "x = tf.placeholder(tf.float32, (None, 32, 32, 3), name='x')\n",
    "y = tf.placeholder(tf.int32, (None), name='y')\n",
    "keep_prob = tf.placeholder(tf.float32, name='keep_prob')\n",
    "\n",
    "one_hot_y = tf.one_hot(y, n_classes)\n"
   ]
  },
  {
   "cell_type": "code",
   "execution_count": 7,
   "metadata": {
    "collapsed": false,
    "deletable": true,
    "editable": true
   },
   "outputs": [],
   "source": [
    "### Define your architecture here.\n",
    "### Feel free to use as many code cells as needed.\n",
    "from tensorflow.contrib.layers import flatten\n",
    "\n",
    "def LeNet(x):    \n",
    "    # Hyperparameters\n",
    "    mu = 0\n",
    "    sigma = 0.1\n",
    "\n",
    "    conv1_out = 6\n",
    "    conv2_out = 16\n",
    "    fc1_in = 5*5*conv2_out\n",
    "    fc1_out = 120\n",
    "    fc2_out = 84\n",
    "    final_output = n_classes\n",
    "    \n",
    "    # SOLUTION: Layer 1: Convolutional. Input = 32x32x3. Output = 28x28x6.\n",
    "    conv1_W = tf.Variable(tf.truncated_normal(shape=(5, 5, 3, conv1_out), mean = mu, stddev = sigma))\n",
    "    conv1_b = tf.Variable(tf.zeros(conv1_out))\n",
    "    conv1   = tf.nn.conv2d(x, conv1_W, strides=[1, 1, 1, 1], padding='VALID') + conv1_b\n",
    "\n",
    "    # SOLUTION: Activation.\n",
    "    conv1 = tf.nn.relu(conv1)\n",
    "\n",
    "    # SOLUTION: Pooling. Input = 28x28x6. Output = 14x14x6.\n",
    "    conv1 = tf.nn.max_pool(conv1, ksize=[1, 2, 2, 1], strides=[1, 2, 2, 1], padding='VALID')\n",
    "\n",
    "    # SOLUTION: Layer 2: Convolutional. Output = 10x10x16.\n",
    "    conv2_W = tf.Variable(tf.truncated_normal(shape=(5, 5, conv1_out, conv2_out), mean = mu, stddev = sigma))\n",
    "    conv2_b = tf.Variable(tf.zeros(conv2_out))\n",
    "    conv2   = tf.nn.conv2d(conv1, conv2_W, strides=[1, 1, 1, 1], padding='VALID') + conv2_b\n",
    "\n",
    "    # SOLUTION: Activation.\n",
    "    conv2 = tf.nn.relu(conv2)\n",
    "\n",
    "    # SOLUTION: Pooling. Input = 10x10x16. Output = 5x5x16.\n",
    "    conv2 = tf.nn.max_pool(conv2, ksize=[1, 2, 2, 1], strides=[1, 2, 2, 1], padding='VALID')\n",
    "\n",
    "    # SOLUTION: Flatten. Input = 5x5x16. Output = 400.\n",
    "    fc0   = flatten(conv2)\n",
    "\n",
    "    # SOLUTION: Layer 3: Fully Connected. Input = 400. Output = 120.\n",
    "    fc1_W = tf.Variable(tf.truncated_normal(shape=(fc1_in, fc1_out), mean = mu, stddev = sigma))\n",
    "    fc1_b = tf.Variable(tf.zeros(fc1_out))\n",
    "    fc1   = tf.matmul(fc0, fc1_W) + fc1_b\n",
    "\n",
    "    # SOLUTION: Activation.\n",
    "    fc1    = tf.nn.relu(fc1)\n",
    "\n",
    "    # SOLUTION: Layer 4: Fully Connected. Input = 120. Output = 84.\n",
    "    fc2_W  = tf.Variable(tf.truncated_normal(shape=(fc1_out, fc2_out), mean = mu, stddev = sigma))\n",
    "    fc2_b  = tf.Variable(tf.zeros(fc2_out))\n",
    "    fc2    = tf.matmul(fc1, fc2_W) + fc2_b\n",
    "\n",
    "    # SOLUTION: Activation.\n",
    "    fc2    = tf.nn.relu(fc2)\n",
    "\n",
    "    # SOLUTION: Layer 5: Fully Connected. Input = 84. Output = 43.\n",
    "    fc3_W  = tf.Variable(tf.truncated_normal(shape=(fc2_out, final_output), mean = mu, stddev = sigma))\n",
    "    fc3_b  = tf.Variable(tf.zeros(final_output))\n",
    "    logits = tf.matmul(fc2, fc3_W) + fc3_b\n",
    "\n",
    "    return logits\n",
    "\n"
   ]
  },
  {
   "cell_type": "code",
   "execution_count": 14,
   "metadata": {
    "collapsed": true
   },
   "outputs": [],
   "source": [
    "def NewNet(x, conv1_out = 8, conv2_out = 16):    \n",
    "    # Hyperparameters\n",
    "    mu = 0\n",
    "    sigma = 0.1\n",
    "\n",
    "    padding = 'SAME'\n",
    "    \n",
    "    fc1_out = 1024\n",
    "    final_output = n_classes\n",
    "    \n",
    "    print(\"input x: {}\".format(x.get_shape()))\n",
    "    \n",
    "    conv1_W = tf.Variable(tf.truncated_normal(shape=(5, 5, 3, conv1_out), mean = mu, stddev = sigma))\n",
    "    conv1_b = tf.Variable(tf.zeros(conv1_out))\n",
    "    conv1   = tf.nn.conv2d(x, conv1_W, strides=[1, 1, 1, 1], padding=padding) + conv1_b\n",
    "    conv1 = tf.nn.relu(conv1)\n",
    "    conv1 = tf.nn.max_pool(conv1, ksize=[1, 2, 2, 1], strides=[1, 2, 2, 1], padding=padding)\n",
    "    print(\"conv1: {}\".format(conv1.get_shape()))\n",
    "    \n",
    "    conv2_W = tf.Variable(tf.truncated_normal(shape=(5, 5, conv1_out, conv2_out), mean = mu, stddev = sigma))\n",
    "    conv2_b = tf.Variable(tf.zeros(conv2_out))\n",
    "    conv2   = tf.nn.conv2d(conv1, conv2_W, strides=[1, 1, 1, 1], padding=padding) + conv2_b\n",
    "    conv2 = tf.nn.relu(conv2)\n",
    "    conv2 = tf.nn.max_pool(conv2, ksize=[1, 2, 2, 1], strides=[1, 2, 2, 1], padding=padding)\n",
    "    print(\"conv2: {}\".format(conv2.get_shape()))\n",
    "    \n",
    "    fc0   = flatten(conv2)\n",
    "    print(\"flattened: {}\".format(fc0.get_shape()))\n",
    "\n",
    "    fc1_in = 8*8*conv2_out\n",
    "    fc1_W = tf.Variable(tf.truncated_normal(shape=(fc1_in, fc1_out), mean = mu, stddev = sigma))\n",
    "    fc1_b = tf.Variable(tf.zeros(fc1_out))\n",
    "    fc1   = tf.matmul(fc0, fc1_W) + fc1_b\n",
    "    fc1   = tf.nn.relu(fc1)\n",
    "\n",
    "    dropout = tf.nn.dropout(fc1, keep_prob)\n",
    "    print(\"dropout: {}\".format(dropout.get_shape()))\n",
    "    \n",
    "    fc2_W  = tf.Variable(tf.truncated_normal(shape=(fc1_out, final_output), mean = mu, stddev = sigma))\n",
    "    fc2_b  = tf.Variable(tf.zeros(final_output))\n",
    "    logits = tf.matmul(dropout, fc2_W) + fc2_b\n",
    "    print(\"logits: {}\".format(logits.get_shape()))\n",
    "\n",
    "    return logits\n"
   ]
  },
  {
   "cell_type": "markdown",
   "metadata": {
    "deletable": true,
    "editable": true
   },
   "source": [
    "### Train, Validate and Test the Model"
   ]
  },
  {
   "cell_type": "markdown",
   "metadata": {
    "deletable": true,
    "editable": true
   },
   "source": [
    "A validation set can be used to assess how well the model is performing. A low accuracy on the training and validation\n",
    "sets imply underfitting. A high accuracy on the training set but low accuracy on the validation set implies overfitting."
   ]
  },
  {
   "cell_type": "code",
   "execution_count": 8,
   "metadata": {
    "collapsed": false,
    "deletable": true,
    "editable": true
   },
   "outputs": [],
   "source": [
    "### Train your model here.\n",
    "### Calculate and report the accuracy on the training and validation set.\n",
    "### Once a final model architecture is selected, \n",
    "### the accuracy on the test set should be calculated and reported as well.\n",
    "### Feel free to use as many code cells as needed.\n",
    "\n",
    "\"\"\"\n",
    "from sklearn.utils import shuffle\n",
    "#X_train, y_train = shuffle(X_train, y_train)\n",
    "\n",
    "EPOCHS = 100\n",
    "BATCH_SIZE = 128\n",
    "print(\"batch size: {}\".format(BATCH_SIZE))\n",
    "\n",
    "rate = 0.001\n",
    "\n",
    "logits = NewNet(x)\n",
    "\n",
    "cross_entropy = tf.nn.softmax_cross_entropy_with_logits(logits, one_hot_y)\n",
    "loss_operation = tf.reduce_mean(cross_entropy)\n",
    "optimizer = tf.train.AdamOptimizer(learning_rate = rate)\n",
    "training_operation = optimizer.minimize(loss_operation)\n",
    "\n",
    "correct_prediction = tf.equal(tf.argmax(logits, 1), tf.argmax(one_hot_y, 1))\n",
    "accuracy_operation = tf.reduce_mean(tf.cast(correct_prediction, tf.float32))\n",
    "saver = tf.train.Saver()\n",
    "\"\"\"\n",
    "\n",
    "def evaluate(accuracy_operation, batch_size, X_data, y_data):\n",
    "    num_examples = len(X_data)\n",
    "    total_accuracy = 0\n",
    "    sess = tf.get_default_session()\n",
    "    for offset in range(0, num_examples, batch_size):\n",
    "        batch_x, batch_y = X_data[offset:offset+batch_size], y_data[offset:offset+batch_size]\n",
    "        accuracy = sess.run(accuracy_operation, feed_dict={x: batch_x, y: batch_y, keep_prob: 1.0})\n",
    "        total_accuracy += (accuracy * len(batch_x))\n",
    "    return total_accuracy / num_examples"
   ]
  },
  {
   "cell_type": "code",
   "execution_count": 10,
   "metadata": {
    "collapsed": false
   },
   "outputs": [],
   "source": [
    "def train(logits, epochs, batch_size, rate, train_x, train_y, valid_x, valid_y, save_file):\n",
    "    print(\"train: epochs {}, batch size {}\".format(epochs, batch_size))\n",
    "\n",
    "    from sklearn.utils import shuffle\n",
    "\n",
    "    cross_entropy = tf.nn.softmax_cross_entropy_with_logits(logits, one_hot_y)\n",
    "    loss_operation = tf.reduce_mean(cross_entropy)\n",
    "    optimizer = tf.train.AdamOptimizer(learning_rate = rate)\n",
    "    training_operation = optimizer.minimize(loss_operation)\n",
    "\n",
    "    correct_prediction = tf.equal(tf.argmax(logits, 1), tf.argmax(one_hot_y, 1))\n",
    "    accuracy_operation = tf.reduce_mean(tf.cast(correct_prediction, tf.float32))\n",
    "    saver = tf.train.Saver()\n",
    "\n",
    "    start_time = time.time()\n",
    "    with tf.Session() as sess:\n",
    "        sess.run(tf.global_variables_initializer())\n",
    "        num_examples = len(train_x)\n",
    "\n",
    "        print(\"Training...\")\n",
    "        for i in range(epochs):\n",
    "            shuffle_x, shuffle_y = shuffle(train_x, train_y)\n",
    "            epoch_start = time.time()\n",
    "            for offset in range(0, num_examples, batch_size):\n",
    "                end = offset + batch_size\n",
    "                batch_x, batch_y = shuffle_x[offset:end], shuffle_y[offset:end]\n",
    "                sess.run(training_operation, feed_dict={x: batch_x, y: batch_y, keep_prob: 0.5})\n",
    "\n",
    "            if (i < 1000 and i % 10 == 9) or (i % 100 == 99):\n",
    "                training_accuracy = evaluate(accuracy_operation, batch_size, train_x, train_y)\n",
    "                validation_accuracy = evaluate(accuracy_operation, batch_size, valid_x, valid_y)\n",
    "                print(\"epoch {}: training = {:.3f}, validation {:.3f}, elapsed {}\".format(i + 1, training_accuracy, validation_accuracy, time.time() - epoch_start))\n",
    "            else:\n",
    "                print('.', end='')\n",
    "\n",
    "        saver.save(sess, save_file)\n",
    "        print(\"Model saved to {}\".format(save_file))\n",
    "\n",
    "    elapsed_time = time.time() - start_time\n",
    "    print(\"Elapsed Time = {}\".format(elapsed_time))\n",
    "    \n",
    "    return accuracy_operation"
   ]
  },
  {
   "cell_type": "code",
   "execution_count": 10,
   "metadata": {
    "collapsed": false
   },
   "outputs": [],
   "source": [
    "def test(accuracy_operation, batch_size, test_x, test_y, restore_file):\n",
    "    saver = tf.train.Saver()\n",
    "    with tf.Session() as sess:\n",
    "        saver.restore(sess, restore_file)\n",
    "        accuracy = evaluate(accuracy_operation, batch_size, test_x, test_y)\n",
    "        print(\"test accuracy = {:.3f}\".format(accuracy))\n"
   ]
  },
  {
   "cell_type": "code",
   "execution_count": 11,
   "metadata": {
    "collapsed": false
   },
   "outputs": [
    {
     "name": "stdout",
     "output_type": "stream",
     "text": [
      "train: epochs 1000, batch size 128\n",
      "Training...\n",
      ".........epoch 10: training = 0.993, validation 0.902, elapsed 3.9076039791107178\n",
      ".........epoch 20: training = 0.993, validation 0.903, elapsed 3.896656036376953\n",
      ".........epoch 30: training = 1.000, validation 0.930, elapsed 3.871825695037842\n",
      ".........epoch 40: training = 0.995, validation 0.925, elapsed 3.8934013843536377\n",
      ".........epoch 50: training = 1.000, validation 0.936, elapsed 3.8821403980255127\n",
      ".........epoch 60: training = 0.998, validation 0.929, elapsed 3.8525545597076416\n",
      ".........epoch 70: training = 0.999, validation 0.925, elapsed 3.888282537460327\n",
      ".........epoch 80: training = 1.000, validation 0.936, elapsed 3.8893680572509766\n",
      ".........epoch 90: training = 1.000, validation 0.936, elapsed 3.8806815147399902\n",
      ".........epoch 100: training = 1.000, validation 0.937, elapsed 3.891103982925415\n",
      ".........epoch 110: training = 1.000, validation 0.939, elapsed 3.891294240951538\n",
      ".........epoch 120: training = 1.000, validation 0.940, elapsed 3.8862740993499756\n",
      ".........epoch 130: training = 1.000, validation 0.941, elapsed 3.8790416717529297\n",
      ".........epoch 140: training = 1.000, validation 0.940, elapsed 3.8890018463134766\n",
      ".........epoch 150: training = 1.000, validation 0.936, elapsed 3.8878135681152344\n",
      ".........epoch 160: training = 1.000, validation 0.942, elapsed 3.872246026992798\n",
      ".........epoch 170: training = 1.000, validation 0.942, elapsed 3.869750499725342\n",
      ".........epoch 180: training = 1.000, validation 0.940, elapsed 3.871173620223999\n",
      ".........epoch 190: training = 1.000, validation 0.939, elapsed 3.8932716846466064\n",
      ".........epoch 200: training = 1.000, validation 0.950, elapsed 3.8838276863098145\n",
      ".........epoch 210: training = 1.000, validation 0.948, elapsed 3.881934404373169\n",
      ".........epoch 220: training = 1.000, validation 0.947, elapsed 3.8768656253814697\n",
      ".........epoch 230: training = 1.000, validation 0.946, elapsed 3.855238676071167\n",
      ".........epoch 240: training = 1.000, validation 0.946, elapsed 3.8872311115264893\n",
      ".........epoch 250: training = 1.000, validation 0.945, elapsed 3.8806347846984863\n",
      ".........epoch 260: training = 1.000, validation 0.945, elapsed 3.880493402481079\n",
      ".........epoch 270: training = 1.000, validation 0.938, elapsed 3.884159564971924\n",
      ".........epoch 280: training = 1.000, validation 0.937, elapsed 3.871900796890259\n",
      ".........epoch 290: training = 1.000, validation 0.938, elapsed 3.8598837852478027\n",
      ".........epoch 300: training = 1.000, validation 0.938, elapsed 3.868271827697754\n",
      ".........epoch 310: training = 1.000, validation 0.940, elapsed 3.85215163230896\n",
      ".........epoch 320: training = 1.000, validation 0.941, elapsed 3.856259822845459\n",
      ".........epoch 330: training = 1.000, validation 0.943, elapsed 3.858964681625366\n",
      ".........epoch 340: training = 0.997, validation 0.927, elapsed 3.8731112480163574\n",
      ".........epoch 350: training = 0.999, validation 0.941, elapsed 3.868504762649536\n",
      ".........epoch 360: training = 1.000, validation 0.943, elapsed 3.866408348083496\n",
      ".........epoch 370: training = 1.000, validation 0.944, elapsed 3.8641161918640137\n",
      ".........epoch 380: training = 1.000, validation 0.944, elapsed 3.8708157539367676\n",
      ".........epoch 390: training = 1.000, validation 0.945, elapsed 3.8508098125457764\n",
      ".........epoch 400: training = 1.000, validation 0.945, elapsed 3.863931179046631\n",
      ".........epoch 410: training = 1.000, validation 0.946, elapsed 3.860616445541382\n",
      ".........epoch 420: training = 1.000, validation 0.946, elapsed 3.875166177749634\n",
      ".........epoch 430: training = 1.000, validation 0.946, elapsed 3.8681931495666504\n",
      ".........epoch 440: training = 1.000, validation 0.942, elapsed 3.876906156539917\n",
      ".........epoch 450: training = 1.000, validation 0.943, elapsed 3.8674659729003906\n",
      ".........epoch 460: training = 1.000, validation 0.944, elapsed 3.8664751052856445\n",
      ".........epoch 470: training = 1.000, validation 0.943, elapsed 3.8646841049194336\n",
      ".........epoch 480: training = 1.000, validation 0.943, elapsed 3.8708174228668213\n",
      ".........epoch 490: training = 1.000, validation 0.943, elapsed 3.856053113937378\n",
      ".........epoch 500: training = 1.000, validation 0.943, elapsed 3.872753858566284\n",
      ".........epoch 510: training = 1.000, validation 0.943, elapsed 3.8552589416503906\n",
      ".........epoch 520: training = 1.000, validation 0.943, elapsed 3.813795804977417\n",
      ".........epoch 530: training = 1.000, validation 0.942, elapsed 3.8603973388671875\n",
      ".........epoch 540: training = 1.000, validation 0.943, elapsed 3.867154121398926\n",
      ".........epoch 550: training = 1.000, validation 0.944, elapsed 3.837217330932617\n",
      ".........epoch 560: training = 0.995, validation 0.927, elapsed 3.8487513065338135\n",
      ".........epoch 570: training = 1.000, validation 0.939, elapsed 3.8601834774017334\n",
      ".........epoch 580: training = 1.000, validation 0.946, elapsed 3.8721678256988525\n",
      ".........epoch 590: training = 1.000, validation 0.946, elapsed 3.865081310272217\n",
      ".........epoch 600: training = 1.000, validation 0.947, elapsed 3.870789051055908\n",
      ".........epoch 610: training = 1.000, validation 0.947, elapsed 3.862582206726074\n",
      ".........epoch 620: training = 1.000, validation 0.946, elapsed 3.8599095344543457\n",
      ".........epoch 630: training = 1.000, validation 0.947, elapsed 3.8618996143341064\n",
      ".........epoch 640: training = 1.000, validation 0.948, elapsed 3.8713228702545166\n",
      ".........epoch 650: training = 1.000, validation 0.948, elapsed 3.8531289100646973\n",
      ".........epoch 660: training = 1.000, validation 0.948, elapsed 3.8725500106811523\n",
      ".........epoch 670: training = 1.000, validation 0.947, elapsed 3.8637304306030273\n",
      ".........epoch 680: training = 0.998, validation 0.945, elapsed 3.856189489364624\n",
      ".........epoch 690: training = 0.999, validation 0.941, elapsed 3.845118284225464\n",
      ".........epoch 700: training = 1.000, validation 0.948, elapsed 3.821161985397339\n",
      ".........epoch 710: training = 1.000, validation 0.949, elapsed 3.819902181625366\n",
      ".........epoch 720: training = 1.000, validation 0.951, elapsed 3.796797275543213\n",
      ".........epoch 730: training = 1.000, validation 0.951, elapsed 3.8545448780059814\n",
      ".........epoch 740: training = 1.000, validation 0.952, elapsed 3.870011329650879\n",
      ".........epoch 750: training = 1.000, validation 0.952, elapsed 3.8649418354034424\n",
      ".........epoch 760: training = 1.000, validation 0.952, elapsed 3.869197130203247\n",
      ".........epoch 770: training = 1.000, validation 0.952, elapsed 3.859545946121216\n",
      ".........epoch 780: training = 1.000, validation 0.951, elapsed 3.8677356243133545\n",
      ".........epoch 790: training = 1.000, validation 0.947, elapsed 3.8604979515075684\n",
      ".........epoch 800: training = 0.999, validation 0.937, elapsed 3.872316598892212\n",
      ".........epoch 810: training = 1.000, validation 0.940, elapsed 3.8583016395568848\n",
      ".........epoch 820: training = 1.000, validation 0.942, elapsed 3.8761188983917236\n",
      ".........epoch 830: training = 1.000, validation 0.943, elapsed 3.8189754486083984\n",
      ".........epoch 840: training = 1.000, validation 0.943, elapsed 3.8686342239379883\n",
      ".........epoch 850: training = 1.000, validation 0.943, elapsed 3.860825300216675\n",
      ".........epoch 860: training = 1.000, validation 0.943, elapsed 3.8747036457061768\n",
      ".........epoch 870: training = 1.000, validation 0.943, elapsed 3.8561995029449463\n",
      ".........epoch 880: training = 1.000, validation 0.944, elapsed 3.8709933757781982\n",
      ".........epoch 890: training = 1.000, validation 0.944, elapsed 3.8655953407287598\n",
      ".........epoch 900: training = 1.000, validation 0.944, elapsed 3.8630411624908447\n",
      ".........epoch 910: training = 0.992, validation 0.931, elapsed 3.865596055984497\n",
      ".........epoch 920: training = 0.999, validation 0.935, elapsed 3.8618297576904297\n",
      ".........epoch 930: training = 1.000, validation 0.939, elapsed 3.872746706008911\n",
      ".........epoch 940: training = 1.000, validation 0.939, elapsed 3.8763375282287598\n",
      ".........epoch 950: training = 1.000, validation 0.940, elapsed 3.8649938106536865\n",
      ".........epoch 960: training = 1.000, validation 0.941, elapsed 3.8665378093719482\n",
      ".........epoch 970: training = 1.000, validation 0.941, elapsed 3.8540732860565186\n",
      ".........epoch 980: training = 1.000, validation 0.941, elapsed 3.8620240688323975\n",
      ".........epoch 990: training = 1.000, validation 0.941, elapsed 3.8605620861053467\n",
      ".........epoch 1000: training = 1.000, validation 0.940, elapsed 3.8702056407928467\n",
      "Model saved to ./lenet\n",
      "Elapsed Time = 3086.99395942688\n"
     ]
    }
   ],
   "source": [
    "lenet_file = './lenet'\n",
    "lenet_acc_op = train(LeNet(x), 200, 128, 0.001, X_train, y_train, X_valid, y_valid, lenet_file)"
   ]
  },
  {
   "cell_type": "code",
   "execution_count": 31,
   "metadata": {
    "collapsed": false
   },
   "outputs": [
    {
     "name": "stdout",
     "output_type": "stream",
     "text": [
      "test accuracy = 0.930\n"
     ]
    }
   ],
   "source": [
    "test(lenet_acc_op, 128, X_test, y_test, lenet_file)"
   ]
  },
  {
   "cell_type": "code",
   "execution_count": null,
   "metadata": {
    "collapsed": false
   },
   "outputs": [
    {
     "name": "stdout",
     "output_type": "stream",
     "text": [
      "input x: (?, 32, 32, 3)\n",
      "conv1: (?, 16, 16, 32)\n",
      "conv2: (?, 8, 8, 64)\n",
      "flattened: (?, 4096)\n",
      "dropout: (?, 1024)\n",
      "logits: (?, 43)\n",
      "train: epochs 1000, batch size 128\n",
      "Training...\n",
      ".........epoch 10: training = 1.000, validation 0.930, elapsed 13.672291278839111\n",
      ".........epoch 20: training = 0.999, validation 0.946, elapsed 13.666195154190063\n",
      ".........epoch 30: training = 0.999, validation 0.938, elapsed 13.656578063964844\n",
      ".........epoch 40: training = 0.999, validation 0.932, elapsed 13.674890995025635\n",
      ".........epoch 50: training = 1.000, validation 0.963, elapsed 13.65854287147522\n",
      ".........epoch 60: training = 1.000, validation 0.956, elapsed 13.670088768005371\n",
      ".........epoch 70: training = 0.999, validation 0.939, elapsed 13.642102241516113\n",
      ".........epoch 80: training = 1.000, validation 0.946, elapsed 13.658980369567871\n",
      ".........epoch 90: training = 1.000, validation 0.954, elapsed 13.66357421875\n",
      ".........epoch 100: training = 1.000, validation 0.956, elapsed 13.658190727233887\n",
      ".........epoch 110: training = 1.000, validation 0.952, elapsed 13.656558752059937\n",
      ".........epoch 120: training = 1.000, validation 0.952, elapsed 13.660212755203247\n",
      ".........epoch 130: training = 1.000, validation 0.952, elapsed 13.662173509597778\n",
      ".........epoch 140: training = 1.000, validation 0.955, elapsed 13.659836530685425\n",
      ".........epoch 150: training = 1.000, validation 0.955, elapsed 13.651395797729492\n",
      ".........epoch 160: training = 1.000, validation 0.942, elapsed 13.651416301727295\n",
      ".........epoch 170: training = 0.999, validation 0.942, elapsed 13.655164241790771\n",
      ".........epoch 180: training = 1.000, validation 0.953, elapsed 13.67397689819336\n",
      ".........epoch 190: training = 1.000, validation 0.954, elapsed 13.668774127960205\n",
      ".........epoch 200: training = 1.000, validation 0.944, elapsed 13.696253299713135\n",
      ".........epoch 210: training = 1.000, validation 0.966, elapsed 13.67482852935791\n",
      ".........epoch 220: training = 1.000, validation 0.948, elapsed 13.677689790725708\n",
      ".........epoch 230: training = 1.000, validation 0.957, elapsed 13.671574831008911\n",
      ".........epoch 240: training = 1.000, validation 0.962, elapsed 13.691125631332397\n",
      ".........epoch 250: training = 1.000, validation 0.953, elapsed 13.690237045288086\n",
      ".........epoch 260: training = 1.000, validation 0.960, elapsed 13.700634241104126\n",
      ".........epoch 270: training = 1.000, validation 0.960, elapsed 13.671586513519287\n",
      ".........epoch 280: training = 1.000, validation 0.956, elapsed 13.6803617477417\n",
      ".........epoch 290: training = 1.000, validation 0.951, elapsed 13.702243566513062\n",
      ".........epoch 300: training = 1.000, validation 0.963, elapsed 13.677103996276855\n",
      ".........epoch 310: training = 1.000, validation 0.952, elapsed 13.66697096824646\n",
      ".........epoch 320: training = 1.000, validation 0.963, elapsed 13.685504674911499\n",
      ".........epoch 330: training = 1.000, validation 0.947, elapsed 13.673984289169312\n",
      ".........epoch 340: training = 1.000, validation 0.959, elapsed 13.68722677230835\n",
      ".........epoch 350: training = 1.000, validation 0.953, elapsed 13.665351152420044\n",
      ".........epoch 360: training = 1.000, validation 0.966, elapsed 13.674579620361328\n",
      ".........epoch 370: training = 1.000, validation 0.961, elapsed 13.670865058898926\n",
      ".........epoch 380: training = 1.000, validation 0.964, elapsed 13.699793815612793\n",
      ".........epoch 390: training = 1.000, validation 0.963, elapsed 13.666008472442627\n",
      ".........epoch 400: training = 1.000, validation 0.967, elapsed 13.676255941390991\n",
      ".........epoch 410: training = 1.000, validation 0.953, elapsed 13.673937797546387\n",
      ".........epoch 420: training = 1.000, validation 0.964, elapsed 13.65375018119812\n",
      ".........epoch 430: training = 1.000, validation 0.958, elapsed 13.687840938568115\n",
      ".........epoch 440: training = 1.000, validation 0.961, elapsed 13.67348313331604\n",
      ".........epoch 450: training = 1.000, validation 0.954, elapsed 13.673858642578125\n",
      ".........epoch 460: training = 1.000, validation 0.948, elapsed 13.674038887023926\n",
      ".........epoch 470: training = 1.000, validation 0.960, elapsed 13.686840534210205\n",
      ".........epoch 480: training = 1.000, validation 0.960, elapsed 13.679656505584717\n",
      "."
     ]
    }
   ],
   "source": [
    "newnet_file = './newnet'\n",
    "newnet_acc_op = train(NewNet(x, 32, 64), 1000, 128, 0.001, X_train, y_train, X_valid, y_valid, newnet_file)"
   ]
  },
  {
   "cell_type": "code",
   "execution_count": 63,
   "metadata": {
    "collapsed": false
   },
   "outputs": [
    {
     "name": "stdout",
     "output_type": "stream",
     "text": [
      "test accuracy = 0.927\n"
     ]
    }
   ],
   "source": [
    "test(newnet_acc_op, 128, X_test, y_test, newnet_file)"
   ]
  },
  {
   "cell_type": "markdown",
   "metadata": {
    "deletable": true,
    "editable": true
   },
   "source": [
    "---\n",
    "\n",
    "## Step 3: Test a Model on New Images\n",
    "\n",
    "To give yourself more insight into how your model is working, download at least five pictures of German traffic signs from the web and use your model to predict the traffic sign type.\n",
    "\n",
    "You may find `signnames.csv` useful as it contains mappings from the class id (integer) to the actual sign name."
   ]
  },
  {
   "cell_type": "markdown",
   "metadata": {
    "deletable": true,
    "editable": true
   },
   "source": [
    "### Load and Output the Images"
   ]
  },
  {
   "cell_type": "code",
   "execution_count": null,
   "metadata": {
    "collapsed": true,
    "deletable": true,
    "editable": true
   },
   "outputs": [],
   "source": [
    "### Load the images and plot them here.\n",
    "### Feel free to use as many code cells as needed."
   ]
  },
  {
   "cell_type": "markdown",
   "metadata": {
    "deletable": true,
    "editable": true
   },
   "source": [
    "### Predict the Sign Type for Each Image"
   ]
  },
  {
   "cell_type": "code",
   "execution_count": null,
   "metadata": {
    "collapsed": true,
    "deletable": true,
    "editable": true
   },
   "outputs": [],
   "source": [
    "### Run the predictions here and use the model to output the prediction for each image.\n",
    "### Make sure to pre-process the images with the same pre-processing pipeline used earlier.\n",
    "### Feel free to use as many code cells as needed."
   ]
  },
  {
   "cell_type": "markdown",
   "metadata": {
    "deletable": true,
    "editable": true
   },
   "source": [
    "### Analyze Performance"
   ]
  },
  {
   "cell_type": "code",
   "execution_count": null,
   "metadata": {
    "collapsed": true,
    "deletable": true,
    "editable": true
   },
   "outputs": [],
   "source": [
    "### Calculate the accuracy for these 5 new images. \n",
    "### For example, if the model predicted 1 out of 5 signs correctly, it's 20% accurate on these new images."
   ]
  },
  {
   "cell_type": "markdown",
   "metadata": {
    "deletable": true,
    "editable": true
   },
   "source": [
    "### Output Top 5 Softmax Probabilities For Each Image Found on the Web"
   ]
  },
  {
   "cell_type": "markdown",
   "metadata": {
    "deletable": true,
    "editable": true
   },
   "source": [
    "For each of the new images, print out the model's softmax probabilities to show the **certainty** of the model's predictions (limit the output to the top 5 probabilities for each image). [`tf.nn.top_k`](https://www.tensorflow.org/versions/r0.12/api_docs/python/nn.html#top_k) could prove helpful here. \n",
    "\n",
    "The example below demonstrates how tf.nn.top_k can be used to find the top k predictions for each image.\n",
    "\n",
    "`tf.nn.top_k` will return the values and indices (class ids) of the top k predictions. So if k=3, for each sign, it'll return the 3 largest probabilities (out of a possible 43) and the correspoding class ids.\n",
    "\n",
    "Take this numpy array as an example. The values in the array represent predictions. The array contains softmax probabilities for five candidate images with six possible classes. `tk.nn.top_k` is used to choose the three classes with the highest probability:\n",
    "\n",
    "```\n",
    "# (5, 6) array\n",
    "a = np.array([[ 0.24879643,  0.07032244,  0.12641572,  0.34763842,  0.07893497,\n",
    "         0.12789202],\n",
    "       [ 0.28086119,  0.27569815,  0.08594638,  0.0178669 ,  0.18063401,\n",
    "         0.15899337],\n",
    "       [ 0.26076848,  0.23664738,  0.08020603,  0.07001922,  0.1134371 ,\n",
    "         0.23892179],\n",
    "       [ 0.11943333,  0.29198961,  0.02605103,  0.26234032,  0.1351348 ,\n",
    "         0.16505091],\n",
    "       [ 0.09561176,  0.34396535,  0.0643941 ,  0.16240774,  0.24206137,\n",
    "         0.09155967]])\n",
    "```\n",
    "\n",
    "Running it through `sess.run(tf.nn.top_k(tf.constant(a), k=3))` produces:\n",
    "\n",
    "```\n",
    "TopKV2(values=array([[ 0.34763842,  0.24879643,  0.12789202],\n",
    "       [ 0.28086119,  0.27569815,  0.18063401],\n",
    "       [ 0.26076848,  0.23892179,  0.23664738],\n",
    "       [ 0.29198961,  0.26234032,  0.16505091],\n",
    "       [ 0.34396535,  0.24206137,  0.16240774]]), indices=array([[3, 0, 5],\n",
    "       [0, 1, 4],\n",
    "       [0, 5, 1],\n",
    "       [1, 3, 5],\n",
    "       [1, 4, 3]], dtype=int32))\n",
    "```\n",
    "\n",
    "Looking just at the first row we get `[ 0.34763842,  0.24879643,  0.12789202]`, you can confirm these are the 3 largest probabilities in `a`. You'll also notice `[3, 0, 5]` are the corresponding indices."
   ]
  },
  {
   "cell_type": "code",
   "execution_count": null,
   "metadata": {
    "collapsed": true,
    "deletable": true,
    "editable": true
   },
   "outputs": [],
   "source": [
    "### Print out the top five softmax probabilities for the predictions on the German traffic sign images found on the web. \n",
    "### Feel free to use as many code cells as needed."
   ]
  },
  {
   "cell_type": "markdown",
   "metadata": {
    "deletable": true,
    "editable": true
   },
   "source": [
    "---\n",
    "\n",
    "## Step 4: Visualize the Neural Network's State with Test Images\n",
    "\n",
    " This Section is not required to complete but acts as an additional excersise for understaning the output of a neural network's weights. While neural networks can be a great learning device they are often referred to as a black box. We can understand what the weights of a neural network look like better by plotting their feature maps. After successfully training your neural network you can see what it's feature maps look like by plotting the output of the network's weight layers in response to a test stimuli image. From these plotted feature maps, it's possible to see what characteristics of an image the network finds interesting. For a sign, maybe the inner network feature maps react with high activation to the sign's boundary outline or to the contrast in the sign's painted symbol.\n",
    "\n",
    " Provided for you below is the function code that allows you to get the visualization output of any tensorflow weight layer you want. The inputs to the function should be a stimuli image, one used during training or a new one you provided, and then the tensorflow variable name that represents the layer's state during the training process, for instance if you wanted to see what the [LeNet lab's](https://classroom.udacity.com/nanodegrees/nd013/parts/fbf77062-5703-404e-b60c-95b78b2f3f9e/modules/6df7ae49-c61c-4bb2-a23e-6527e69209ec/lessons/601ae704-1035-4287-8b11-e2c2716217ad/concepts/d4aca031-508f-4e0b-b493-e7b706120f81) feature maps looked like for it's second convolutional layer you could enter conv2 as the tf_activation variable.\n",
    "\n",
    "For an example of what feature map outputs look like, check out NVIDIA's results in their paper [End-to-End Deep Learning for Self-Driving Cars](https://devblogs.nvidia.com/parallelforall/deep-learning-self-driving-cars/) in the section Visualization of internal CNN State. NVIDIA was able to show that their network's inner weights had high activations to road boundary lines by comparing feature maps from an image with a clear path to one without. Try experimenting with a similar test to show that your trained network's weights are looking for interesting features, whether it's looking at differences in feature maps from images with or without a sign, or even what feature maps look like in a trained network vs a completely untrained one on the same sign image.\n",
    "\n",
    "<figure>\n",
    " <img src=\"visualize_cnn.png\" width=\"380\" alt=\"Combined Image\" />\n",
    " <figcaption>\n",
    " <p></p> \n",
    " <p style=\"text-align: center;\"> Your output should look something like this (above)</p> \n",
    " </figcaption>\n",
    "</figure>\n",
    " <p></p> \n"
   ]
  },
  {
   "cell_type": "code",
   "execution_count": null,
   "metadata": {
    "collapsed": true,
    "deletable": true,
    "editable": true
   },
   "outputs": [],
   "source": [
    "### Visualize your network's feature maps here.\n",
    "### Feel free to use as many code cells as needed.\n",
    "\n",
    "# image_input: the test image being fed into the network to produce the feature maps\n",
    "# tf_activation: should be a tf variable name used during your training procedure that represents the calculated state of a specific weight layer\n",
    "# activation_min/max: can be used to view the activation contrast in more detail, by default matplot sets min and max to the actual min and max values of the output\n",
    "# plt_num: used to plot out multiple different weight feature map sets on the same block, just extend the plt number for each new feature map entry\n",
    "\n",
    "def outputFeatureMap(image_input, tf_activation, activation_min=-1, activation_max=-1 ,plt_num=1):\n",
    "    # Here make sure to preprocess your image_input in a way your network expects\n",
    "    # with size, normalization, ect if needed\n",
    "    # image_input =\n",
    "    # Note: x should be the same name as your network's tensorflow data placeholder variable\n",
    "    # If you get an error tf_activation is not defined it maybe having trouble accessing the variable from inside a function\n",
    "    activation = tf_activation.eval(session=sess,feed_dict={x : image_input})\n",
    "    featuremaps = activation.shape[3]\n",
    "    plt.figure(plt_num, figsize=(15,15))\n",
    "    for featuremap in range(featuremaps):\n",
    "        plt.subplot(6,8, featuremap+1) # sets the number of feature maps to show on each row and column\n",
    "        plt.title('FeatureMap ' + str(featuremap)) # displays the feature map number\n",
    "        if activation_min != -1 & activation_max != -1:\n",
    "            plt.imshow(activation[0,:,:, featuremap], interpolation=\"nearest\", vmin =activation_min, vmax=activation_max, cmap=\"gray\")\n",
    "        elif activation_max != -1:\n",
    "            plt.imshow(activation[0,:,:, featuremap], interpolation=\"nearest\", vmax=activation_max, cmap=\"gray\")\n",
    "        elif activation_min !=-1:\n",
    "            plt.imshow(activation[0,:,:, featuremap], interpolation=\"nearest\", vmin=activation_min, cmap=\"gray\")\n",
    "        else:\n",
    "            plt.imshow(activation[0,:,:, featuremap], interpolation=\"nearest\", cmap=\"gray\")"
   ]
  },
  {
   "cell_type": "markdown",
   "metadata": {
    "deletable": true,
    "editable": true
   },
   "source": [
    "### Question 9\n",
    "\n",
    "Discuss how you used the visual output of your trained network's feature maps to show that it had learned to look for interesting characteristics in traffic sign images\n"
   ]
  },
  {
   "cell_type": "markdown",
   "metadata": {
    "deletable": true,
    "editable": true
   },
   "source": [
    "**Answer:**"
   ]
  },
  {
   "cell_type": "markdown",
   "metadata": {
    "deletable": true,
    "editable": true
   },
   "source": [
    "> **Note**: Once you have completed all of the code implementations and successfully answered each question above, you may finalize your work by exporting the iPython Notebook as an HTML document. You can do this by using the menu above and navigating to  \\n\",\n",
    "    \"**File -> Download as -> HTML (.html)**. Include the finished document along with this notebook as your submission."
   ]
  },
  {
   "cell_type": "markdown",
   "metadata": {
    "deletable": true,
    "editable": true
   },
   "source": [
    "### Project Writeup\n",
    "\n",
    "Once you have completed the code implementation, document your results in a project writeup using this [template](https://github.com/udacity/CarND-Traffic-Sign-Classifier-Project/blob/master/writeup_template.md) as a guide. The writeup can be in a markdown or pdf file. "
   ]
  }
 ],
 "metadata": {
  "anaconda-cloud": {},
  "kernelspec": {
   "display_name": "Python 3",
   "language": "python",
   "name": "python3"
  },
  "language_info": {
   "codemirror_mode": {
    "name": "ipython",
    "version": 3
   },
   "file_extension": ".py",
   "mimetype": "text/x-python",
   "name": "python",
   "nbconvert_exporter": "python",
   "pygments_lexer": "ipython3",
   "version": "3.5.2"
  },
  "widgets": {
   "state": {},
   "version": "1.1.2"
  }
 },
 "nbformat": 4,
 "nbformat_minor": 1
}
