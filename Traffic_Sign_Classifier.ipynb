{
 "cells": [
  {
   "cell_type": "markdown",
   "metadata": {
    "deletable": true,
    "editable": true
   },
   "source": [
    "# Self-Driving Car Engineer Nanodegree\n",
    "\n",
    "## Deep Learning\n",
    "\n",
    "## Project: Build a Traffic Sign Recognition Classifier\n",
    "\n",
    "In this notebook, a template is provided for you to implement your functionality in stages, which is required to successfully complete this project. If additional code is required that cannot be included in the notebook, be sure that the Python code is successfully imported and included in your submission if necessary. \n",
    "\n",
    "> **Note**: Once you have completed all of the code implementations, you need to finalize your work by exporting the iPython Notebook as an HTML document. Before exporting the notebook to html, all of the code cells need to have been run so that reviewers can see the final implementation and output. You can then export the notebook by using the menu above and navigating to  \\n\",\n",
    "    \"**File -> Download as -> HTML (.html)**. Include the finished document along with this notebook as your submission. \n",
    "\n",
    "In addition to implementing code, there is a writeup to complete. The writeup should be completed in a separate file, which can be either a markdown file or a pdf document. There is a [write up template](https://github.com/udacity/CarND-Traffic-Sign-Classifier-Project/blob/master/writeup_template.md) that can be used to guide the writing process. Completing the code template and writeup template will cover all of the [rubric points](https://review.udacity.com/#!/rubrics/481/view) for this project.\n",
    "\n",
    "The [rubric](https://review.udacity.com/#!/rubrics/481/view) contains \"Stand Out Suggestions\" for enhancing the project beyond the minimum requirements. The stand out suggestions are optional. If you decide to pursue the \"stand out suggestions\", you can include the code in this Ipython notebook and also discuss the results in the writeup file.\n",
    "\n",
    "\n",
    ">**Note:** Code and Markdown cells can be executed using the **Shift + Enter** keyboard shortcut. In addition, Markdown cells can be edited by typically double-clicking the cell to enter edit mode."
   ]
  },
  {
   "cell_type": "markdown",
   "metadata": {
    "deletable": true,
    "editable": true
   },
   "source": [
    "---\n",
    "## Step 0: Load The Data"
   ]
  },
  {
   "cell_type": "code",
   "execution_count": 1,
   "metadata": {
    "collapsed": false,
    "deletable": true,
    "editable": true
   },
   "outputs": [],
   "source": [
    "# Load pickled data\n",
    "import pickle\n",
    "import os\n",
    "\n",
    "# TODO: Fill this in based on where you saved the training and testing data\n",
    "\n",
    "if os.environ['PWD'] == '/output':\n",
    "    input_dir = '/input'\n",
    "    output_dir = '/output'\n",
    "else:\n",
    "    input_dir = './data'\n",
    "    output_dir = '.'\n",
    "    \n",
    "training_file = input_dir + '/train.p'\n",
    "validation_file= input_dir + '/valid.p'\n",
    "testing_file = input_dir + '/test.p'\n",
    "\n",
    "with open(training_file, mode='rb') as f:\n",
    "    train = pickle.load(f)\n",
    "with open(validation_file, mode='rb') as f:\n",
    "    valid = pickle.load(f)\n",
    "with open(testing_file, mode='rb') as f:\n",
    "    test = pickle.load(f)\n",
    "    \n",
    "X_train, y_train = train['features'], train['labels']\n",
    "X_valid, y_valid = valid['features'], valid['labels']\n",
    "X_test, y_test = test['features'], test['labels']\n",
    "\n",
    "X_train_orig = X_train\n",
    "\n",
    "need_preprocess = True"
   ]
  },
  {
   "cell_type": "markdown",
   "metadata": {
    "deletable": true,
    "editable": true
   },
   "source": [
    "---\n",
    "\n",
    "## Step 1: Dataset Summary & Exploration\n",
    "\n",
    "The pickled data is a dictionary with 4 key/value pairs:\n",
    "\n",
    "- `'features'` is a 4D array containing raw pixel data of the traffic sign images, (num examples, width, height, channels).\n",
    "- `'labels'` is a 1D array containing the label/class id of the traffic sign. The file `signnames.csv` contains id -> name mappings for each id.\n",
    "- `'sizes'` is a list containing tuples, (width, height) representing the the original width and height the image.\n",
    "- `'coords'` is a list containing tuples, (x1, y1, x2, y2) representing coordinates of a bounding box around the sign in the image. **THESE COORDINATES ASSUME THE ORIGINAL IMAGE. THE PICKLED DATA CONTAINS RESIZED VERSIONS (32 by 32) OF THESE IMAGES**\n",
    "\n",
    "Complete the basic data summary below. Use python, numpy and/or pandas methods to calculate the data summary rather than hard coding the results. For example, the [pandas shape method](http://pandas.pydata.org/pandas-docs/stable/generated/pandas.DataFrame.shape.html) might be useful for calculating some of the summary results. "
   ]
  },
  {
   "cell_type": "markdown",
   "metadata": {
    "deletable": true,
    "editable": true
   },
   "source": [
    "### Provide a Basic Summary of the Data Set Using Python, Numpy and/or Pandas"
   ]
  },
  {
   "cell_type": "code",
   "execution_count": 2,
   "metadata": {
    "collapsed": false,
    "deletable": true,
    "editable": true
   },
   "outputs": [
    {
     "name": "stdout",
     "output_type": "stream",
     "text": [
      "array type = uint8\n",
      "Number of training examples = 34799\n",
      "Number of testing examples = 12630\n",
      "Image data shape = (32, 32, 3)\n",
      "Number of classes = 43\n",
      "Classes count =  [ 180 1980 2010 1260 1770 1650  360 1290 1260 1320 1800 1170 1890 1920  690\n",
      "  540  360  990 1080  180  300  270  330  450  240 1350  540  210  480  240\n",
      "  390  690  210  599  360 1080  330  180 1860  270  300  210  210]\n"
     ]
    }
   ],
   "source": [
    "### Replace each question mark with the appropriate value. \n",
    "### Use python, pandas or numpy methods rather than hard coding the results\n",
    "import numpy as np\n",
    "\n",
    "# TODO: Number of training examples\n",
    "n_train = len(X_train)\n",
    "\n",
    "# TODO: Number of testing examples.\n",
    "n_test = len(X_test)\n",
    "\n",
    "# TODO: What's the shape of an traffic sign image?\n",
    "image_shape = X_train[0].shape\n",
    "\n",
    "unique_classes, classes_count = np.unique(y_train, return_counts=True)\n",
    "# TODO: How many unique classes/labels there are in the dataset.\n",
    "n_classes = len(unique_classes)\n",
    "\n",
    "print(\"array type =\", X_train.dtype)\n",
    "print(\"Number of training examples =\", n_train)\n",
    "print(\"Number of testing examples =\", n_test)\n",
    "print(\"Image data shape =\", image_shape)\n",
    "print(\"Number of classes =\", n_classes)\n",
    "print(\"Classes count = \", classes_count)"
   ]
  },
  {
   "cell_type": "markdown",
   "metadata": {
    "deletable": true,
    "editable": true
   },
   "source": [
    "### Include an exploratory visualization of the dataset"
   ]
  },
  {
   "cell_type": "markdown",
   "metadata": {
    "deletable": true,
    "editable": true
   },
   "source": [
    "Visualize the German Traffic Signs Dataset using the pickled file(s). This is open ended, suggestions include: plotting traffic sign images, plotting the count of each sign, etc.\n",
    "\n",
    "The [Matplotlib](http://matplotlib.org/) [examples](http://matplotlib.org/examples/index.html) and [gallery](http://matplotlib.org/gallery.html) pages are a great resource for doing visualizations in Python.\n",
    "\n",
    "**NOTE:** It's recommended you start with something simple first. If you wish to do more, come back to it after you've completed the rest of the sections."
   ]
  },
  {
   "cell_type": "code",
   "execution_count": 3,
   "metadata": {
    "collapsed": false,
    "deletable": true,
    "editable": true,
    "scrolled": false
   },
   "outputs": [
    {
     "name": "stdout",
     "output_type": "stream",
     "text": [
      "Speed limit (60km/h)\n"
     ]
    },
    {
     "data": {
      "image/png": "[encoded data removed]",
      "text/plain": [
       "<matplotlib.figure.Figure at 0x7fc7fb751518>"
      ]
     },
     "metadata": {},
     "output_type": "display_data"
    },
    {
     "name": "stdout",
     "output_type": "stream",
     "text": [
      "Yield\n"
     ]
    },
    {
     "data": {
      "image/png": "[encoded data removed]",
      "text/plain": [
       "<matplotlib.figure.Figure at 0x7fc7e822bbe0>"
      ]
     },
     "metadata": {},
     "output_type": "display_data"
    },
    {
     "name": "stdout",
     "output_type": "stream",
     "text": [
      "Keep right\n"
     ]
    },
    {
     "data": {
      "image/png": "[encoded data removed]",
      "text/plain": [
       "<matplotlib.figure.Figure at 0x7fc7e5c50048>"
      ]
     },
     "metadata": {},
     "output_type": "display_data"
    },
    {
     "name": "stdout",
     "output_type": "stream",
     "text": [
      "General caution\n"
     ]
    },
    {
     "data": {
      "image/png": "[encoded data removed]",
      "text/plain": [
       "<matplotlib.figure.Figure at 0x7fc7e5b8ca90>"
      ]
     },
     "metadata": {},
     "output_type": "display_data"
    },
    {
     "name": "stdout",
     "output_type": "stream",
     "text": [
      "Dangerous curve to the left\n"
     ]
    },
    {
     "data": {
      "image/png": "[encoded data removed]",
      "text/plain": [
       "<matplotlib.figure.Figure at 0x7fc7e5c2e550>"
      ]
     },
     "metadata": {},
     "output_type": "display_data"
    }
   ],
   "source": [
    "### Data exploration visualization code goes here.\n",
    "### Feel free to use as many code cells as needed.\n",
    "import matplotlib.pyplot as plt\n",
    "# Visualizations will be shown in the notebook.\n",
    "%matplotlib inline\n",
    "\n",
    "import csv\n",
    "sign_labels = {}\n",
    "with open('signnames.csv', 'r') as file:\n",
    "    # probably a better way to do this, but I'm not a python programmer\n",
    "    r = csv.reader(file)\n",
    "    next(r) # skip first line\n",
    "    for row in r:\n",
    "        sign_labels[int(row[0])] = row[1]\n",
    "\n",
    "#print(sign_labels)\n",
    "\n",
    "import random\n",
    "import time\n",
    "for i in range(5):\n",
    "    index = random.randint(0, len(X_train))\n",
    "    plt.imshow(X_train[index])\n",
    "    print(sign_labels[y_train[index]])\n",
    "    plt.show()\n"
   ]
  },
  {
   "cell_type": "markdown",
   "metadata": {
    "deletable": true,
    "editable": true
   },
   "source": [
    "----\n",
    "\n",
    "## Step 2: Design and Test a Model Architecture\n",
    "\n",
    "Design and implement a deep learning model that learns to recognize traffic signs. Train and test your model on the [German Traffic Sign Dataset](http://benchmark.ini.rub.de/?section=gtsrb&subsection=dataset).\n",
    "\n",
    "There are various aspects to consider when thinking about this problem:\n",
    "\n",
    "- Neural network architecture\n",
    "- Play around preprocessing techniques (normalization, rgb to grayscale, etc)\n",
    "- Number of examples per label (some have more than others).\n",
    "- Generate fake data.\n",
    "\n",
    "Here is an example of a [published baseline model on this problem](http://yann.lecun.com/exdb/publis/pdf/sermanet-ijcnn-11.pdf). It's not required to be familiar with the approach used in the paper but, it's good practice to try to read papers like these.\n",
    "\n",
    "**NOTE:** The LeNet-5 implementation shown in the [classroom](https://classroom.udacity.com/nanodegrees/nd013/parts/fbf77062-5703-404e-b60c-95b78b2f3f9e/modules/6df7ae49-c61c-4bb2-a23e-6527e69209ec/lessons/601ae704-1035-4287-8b11-e2c2716217ad/concepts/d4aca031-508f-4e0b-b493-e7b706120f81) at the end of the CNN lesson is a solid starting point. You'll have to change the number of classes and possibly the preprocessing, but aside from that it's plug and play!"
   ]
  },
  {
   "cell_type": "markdown",
   "metadata": {
    "deletable": true,
    "editable": true
   },
   "source": [
    "### Pre-process the Data Set (normalization, grayscale, etc.)"
   ]
  },
  {
   "cell_type": "markdown",
   "metadata": {
    "deletable": true,
    "editable": true
   },
   "source": [
    "Use the code cell (or multiple code cells, if necessary) to implement the first step of your project."
   ]
  },
  {
   "cell_type": "code",
   "execution_count": 4,
   "metadata": {
    "collapsed": true,
    "deletable": true,
    "editable": true
   },
   "outputs": [],
   "source": [
    "# code block 4\n",
    "def print_img_info(img):\n",
    "    print(\"shape:\", img.shape, \"dtype:\", img.dtype, \"min:\",np.min(img), \"max:\", np.max(img))\n",
    "    print(img[0][:10])"
   ]
  },
  {
   "cell_type": "code",
   "execution_count": 5,
   "metadata": {
    "collapsed": false,
    "deletable": true,
    "editable": true,
    "scrolled": false
   },
   "outputs": [
    {
     "name": "stdout",
     "output_type": "stream",
     "text": [
      "shape: (32, 32, 3) dtype: uint8 min: 45 max: 248\n",
      "[[129 138 152]\n",
      " [131 138 151]\n",
      " [131 137 151]\n",
      " [131 136 150]\n",
      " [131 135 144]\n",
      " [131 134 142]\n",
      " [131 134 145]\n",
      " [131 135 146]\n",
      " [133 135 144]\n",
      " [132 129 137]]\n",
      "preprocessing X_train\n",
      "preprocessing X_valid\n",
      "preprocessing X_test\n",
      "shape: (32, 32, 3) dtype: float32 min: -0.648438 max: 0.9375\n",
      "[[ 0.0078125  0.078125   0.1875   ]\n",
      " [ 0.0234375  0.078125   0.1796875]\n",
      " [ 0.0234375  0.0703125  0.1796875]\n",
      " [ 0.0234375  0.0625     0.171875 ]\n",
      " [ 0.0234375  0.0546875  0.125    ]\n",
      " [ 0.0234375  0.046875   0.109375 ]\n",
      " [ 0.0234375  0.046875   0.1328125]\n",
      " [ 0.0234375  0.0546875  0.140625 ]\n",
      " [ 0.0390625  0.0546875  0.125    ]\n",
      " [ 0.03125    0.0078125  0.0703125]]\n"
     ]
    }
   ],
   "source": [
    "# code block 5\n",
    "\n",
    "### Preprocess the data here. Preprocessing steps could include normalization, converting to grayscale, etc.\n",
    "### Feel free to use as many code cells as needed.\n",
    "\n",
    "# convert X_train, X_valid, and X_test to grayscale.  Appear to be RGB since plt.imshow looks correct.\n",
    "# probably should've saved this to a different variable since it can't be done every time.\n",
    "\n",
    "def preprocess(x):\n",
    "    x = x.astype(np.float32)\n",
    "    x = (x - 128)/128\n",
    "    #x = np.round(x, decimals=1)\n",
    "    return x\n",
    "    #return x/255\n",
    "\n",
    "print_img_info(X_train_orig[10000])\n",
    "\n",
    "if need_preprocess:\n",
    "    print(\"preprocessing X_train\")\n",
    "    X_train = preprocess(X_train)\n",
    "    print(\"preprocessing X_valid\")\n",
    "    X_valid = preprocess(X_valid)\n",
    "    print(\"preprocessing X_test\")\n",
    "    X_test = preprocess(X_test)\n",
    "    need_preprocess = False\n",
    "    \n",
    "print_img_info(X_train[10000])"
   ]
  },
  {
   "cell_type": "markdown",
   "metadata": {
    "deletable": true,
    "editable": true
   },
   "source": [
    "### Model Architecture"
   ]
  },
  {
   "cell_type": "code",
   "execution_count": 6,
   "metadata": {
    "collapsed": false,
    "deletable": true,
    "editable": true
   },
   "outputs": [],
   "source": [
    "# code block 6\n",
    "\n",
    "import tensorflow as tf\n",
    "from tensorflow.contrib.layers import flatten\n",
    "\n",
    "x = tf.placeholder(tf.float32, (None, 32, 32, 3), name='x')\n",
    "y = tf.placeholder(tf.int32, (None), name='y')\n",
    "keep_prob = tf.placeholder(tf.float32, name='keep_prob')\n",
    "\n",
    "one_hot_y = tf.one_hot(y, n_classes)\n"
   ]
  },
  {
   "cell_type": "code",
   "execution_count": null,
   "metadata": {
    "collapsed": false,
    "deletable": true,
    "editable": true
   },
   "outputs": [],
   "source": [
    "# code block 7\n",
    "\n",
    "### Define your architecture here.\n",
    "### Feel free to use as many code cells as needed.\n",
    "\n",
    "def LeNet(x):    \n",
    "    # Hyperparameters\n",
    "    mu = 0\n",
    "    sigma = 0.1\n",
    "\n",
    "    conv1_out = 6\n",
    "    conv2_out = 16\n",
    "    fc1_in = 5*5*conv2_out\n",
    "    fc1_out = 120\n",
    "    fc2_out = 84\n",
    "    final_output = n_classes\n",
    "    tensors = {}\n",
    "    \n",
    "    img_pp = tf.image.rgb_to_grayscale(x)\n",
    "    tensors['img_pp'] = img_pp\n",
    "    print(\"rgb2gray: {}\".format(img_pp.get_shape()))\n",
    "\n",
    "    conv1_channels = 1\n",
    "    conv1_in = img_pp\n",
    "    \n",
    "    #conv1_channels = 3\n",
    "    #conv1_in = x\n",
    "\n",
    "    conv1_W = tf.Variable(tf.truncated_normal(shape=(5, 5, conv1_channels, conv1_out), mean = mu, stddev = sigma), name=\"conv1_W\")\n",
    "    conv1_b = tf.Variable(tf.zeros(conv1_out), name=\"conv1_b\")\n",
    "    conv1   = tf.nn.conv2d(conv1_in, conv1_W, strides=[1, 1, 1, 1], padding='VALID') + conv1_b\n",
    "    print(\"conv1: {}\".format(conv1.get_shape()))\n",
    "    tensors['conv1'] = conv1\n",
    "\n",
    "    conv1 = tf.nn.relu(conv1)\n",
    "\n",
    "    conv1 = tf.nn.max_pool(conv1, ksize=[1, 2, 2, 1], strides=[1, 2, 2, 1], padding='VALID')\n",
    "    print(\"conv1 max pool: {}\".format(conv1.get_shape()))\n",
    "\n",
    "    conv2_W = tf.Variable(tf.truncated_normal(shape=(5, 5, conv1_out, conv2_out), mean = mu, stddev = sigma), name=\"conv2_W\")\n",
    "    conv2_b = tf.Variable(tf.zeros(conv2_out), name=\"conv2_b\")\n",
    "    conv2   = tf.nn.conv2d(conv1, conv2_W, strides=[1, 1, 1, 1], padding='VALID') + conv2_b\n",
    "    print(\"conv2: {}\".format(conv2.get_shape()))\n",
    "    tensors['conv2'] = conv2\n",
    "    \n",
    "    conv2 = tf.nn.relu(conv2)\n",
    "\n",
    "    conv2 = tf.nn.max_pool(conv2, ksize=[1, 2, 2, 1], strides=[1, 2, 2, 1], padding='VALID')\n",
    "    print(\"conv2 max pool: {}\".format(conv2.get_shape()))\n",
    "\n",
    "    fc0   = flatten(conv2)\n",
    "    print(\"flatten: {}\".format(fc0.get_shape()))\n",
    "\n",
    "    fc1_W = tf.Variable(tf.truncated_normal(shape=(fc1_in, fc1_out), mean = mu, stddev = sigma), name=\"fc1_W\")\n",
    "    fc1_b = tf.Variable(tf.zeros(fc1_out), name=\"fc1_b\")\n",
    "    fc1   = tf.matmul(fc0, fc1_W) + fc1_b\n",
    "    print(\"fc1: {}\".format(fc1.get_shape()))\n",
    "    tensors['fc1'] = fc1\n",
    "\n",
    "    fc1    = tf.nn.relu(fc1)\n",
    "\n",
    "    fc2_W  = tf.Variable(tf.truncated_normal(shape=(fc1_out, fc2_out), mean = mu, stddev = sigma), name=\"fc2_W\")\n",
    "    fc2_b  = tf.Variable(tf.zeros(fc2_out), name=\"fc2_b\")\n",
    "    fc2    = tf.matmul(fc1, fc2_W) + fc2_b\n",
    "    print(\"fc2: {}\".format(fc2.get_shape()))\n",
    "\n",
    "    fc2    = tf.nn.relu(fc2)\n",
    "\n",
    "    fc3_W  = tf.Variable(tf.truncated_normal(shape=(fc2_out, final_output), mean = mu, stddev = sigma), name=\"fc3_W\")\n",
    "    fc3_b  = tf.Variable(tf.zeros(final_output), name=\"fc3_b\")\n",
    "    logits = tf.matmul(fc2, fc3_W) + fc3_b\n",
    "    print(\"logits: {}\".format(logits.get_shape()))\n",
    "\n",
    "    return logits, tensors"
   ]
  },
  {
   "cell_type": "code",
   "execution_count": 12,
   "metadata": {
    "collapsed": true,
    "deletable": true,
    "editable": true
   },
   "outputs": [],
   "source": [
    "# code block 8\n",
    "\n",
    "def NewNet(x, conv1_out = 8, conv2_out = 16):    \n",
    "    # Hyperparameters\n",
    "    mu = 0\n",
    "    sigma = 0.0001\n",
    "\n",
    "    padding = 'SAME'\n",
    "    \n",
    "    fc1_out = 1024\n",
    "    final_output = n_classes\n",
    "    \n",
    "    tensors = {}\n",
    "    \n",
    "    print(\"input x: {}\".format(x.get_shape()))\n",
    "    \n",
    "    #img_pp = tf.image.rgb_to_grayscale(x)\n",
    "    #tensors['img_pp'] = img_pp\n",
    "    #print(\"rgb2gray: {}\".format(img_pp.get_shape()))\n",
    "    #conv1_channels = 1\n",
    "    #conv1_in = img_pp\n",
    "\n",
    "    #x = tf.image.rgb_to_hsv(x)\n",
    "    \n",
    "    conv1_channels = 3\n",
    "    conv1_in = x\n",
    "\n",
    "    conv1_W = tf.Variable(tf.truncated_normal(shape=(5, 5, conv1_channels, conv1_out), mean = mu, stddev = sigma), name='conv1')\n",
    "    conv1_b = tf.Variable(tf.zeros(conv1_out))\n",
    "    conv1   = tf.nn.conv2d(conv1_in, conv1_W, strides=[1, 1, 1, 1], padding=padding) + conv1_b\n",
    "    conv1 = tf.nn.relu(conv1)\n",
    "    tensors['conv1'] = conv1\n",
    "    conv1 = tf.nn.max_pool(conv1, ksize=[1, 2, 2, 1], strides=[1, 2, 2, 1], padding=padding)\n",
    "    print(\"conv1: {}\".format(conv1.get_shape()))\n",
    "    \n",
    "    conv2_W = tf.Variable(tf.truncated_normal(shape=(5, 5, conv1_out, conv2_out), mean = mu, stddev = sigma), name='conv2')\n",
    "    conv2_b = tf.Variable(tf.zeros(conv2_out))\n",
    "    conv2   = tf.nn.conv2d(conv1, conv2_W, strides=[1, 1, 1, 1], padding=padding) + conv2_b\n",
    "    conv2 = tf.nn.relu(conv2)\n",
    "    tensors['conv2'] = conv2\n",
    "    conv2 = tf.nn.max_pool(conv2, ksize=[1, 2, 2, 1], strides=[1, 2, 2, 1], padding=padding)\n",
    "    print(\"conv2: {}\".format(conv2.get_shape()))\n",
    "    \n",
    "    fc0   = flatten(conv2)\n",
    "    print(\"flattened: {}\".format(fc0.get_shape()))\n",
    "\n",
    "    fc1_in = 8*8*conv2_out\n",
    "    fc1_W = tf.Variable(tf.truncated_normal(shape=(fc1_in, fc1_out), mean = mu, stddev = sigma))\n",
    "    fc1_b = tf.Variable(tf.zeros(fc1_out))\n",
    "    fc1   = tf.matmul(fc0, fc1_W) + fc1_b\n",
    "    fc1   = tf.nn.relu(fc1)\n",
    "    tensors['fc1'] = fc1\n",
    "    print(\"fc1: {}\".format(fc1.get_shape()))\n",
    "\n",
    "    dropout = tf.nn.dropout(fc1, keep_prob)\n",
    "    print(\"dropout: {}\".format(dropout.get_shape()))\n",
    "    \n",
    "    fc2_W  = tf.Variable(tf.truncated_normal(shape=(fc1_out, final_output), mean = mu, stddev = sigma))\n",
    "    fc2_b  = tf.Variable(tf.zeros(final_output))\n",
    "    logits = tf.matmul(dropout, fc2_W) + fc2_b\n",
    "    print(\"logits: {}\".format(logits.get_shape()))\n",
    "\n",
    "    return logits, tensors\n"
   ]
  },
  {
   "cell_type": "markdown",
   "metadata": {
    "deletable": true,
    "editable": true
   },
   "source": [
    "### Train, Validate and Test the Model"
   ]
  },
  {
   "cell_type": "markdown",
   "metadata": {
    "deletable": true,
    "editable": true
   },
   "source": [
    "A validation set can be used to assess how well the model is performing. A low accuracy on the training and validation\n",
    "sets imply underfitting. A high accuracy on the training set but low accuracy on the validation set implies overfitting."
   ]
  },
  {
   "cell_type": "code",
   "execution_count": 8,
   "metadata": {
    "collapsed": false,
    "deletable": true,
    "editable": true
   },
   "outputs": [],
   "source": [
    "# code block 10\n",
    "\n",
    "def evaluate(accuracy_operation, batch_size, X_data, y_data):\n",
    "    num_examples = len(X_data)\n",
    "    total_accuracy = 0\n",
    "    sess = tf.get_default_session()\n",
    "    for offset in range(0, num_examples, batch_size):\n",
    "        batch_x, batch_y = X_data[offset:offset+batch_size], y_data[offset:offset+batch_size]\n",
    "        accuracy = sess.run(accuracy_operation, feed_dict={x: batch_x, y: batch_y, keep_prob: 1.0})\n",
    "        total_accuracy += (accuracy * len(batch_x))\n",
    "    return total_accuracy / num_examples\n",
    "\n",
    "def train(logits, epochs, batch_size, rate, train_x, train_y, valid_x, valid_y, save_file):\n",
    "    print(\"train: epochs {}, batch size {}, learning rate {}\".format(epochs, batch_size, rate))\n",
    "    print(\"Model saves to {}\".format(save_file))\n",
    "\n",
    "    from sklearn.utils import shuffle\n",
    "\n",
    "    cross_entropy = tf.nn.softmax_cross_entropy_with_logits(logits, one_hot_y)\n",
    "    loss_operation = tf.reduce_mean(cross_entropy)\n",
    "    optimizer = tf.train.AdamOptimizer(learning_rate = rate)\n",
    "    training_operation = optimizer.minimize(loss_operation)\n",
    "\n",
    "    correct_prediction = tf.equal(tf.argmax(logits, 1), tf.argmax(one_hot_y, 1))\n",
    "    accuracy_operation = tf.reduce_mean(tf.cast(correct_prediction, tf.float32))\n",
    "    saver = tf.train.Saver()\n",
    "\n",
    "    start_time = time.time()\n",
    "    with tf.Session() as sess:\n",
    "        sess.run(tf.global_variables_initializer())\n",
    "        num_examples = len(train_x)\n",
    "\n",
    "        best_vacc = 0\n",
    "        \n",
    "        print(\"Training...\")\n",
    "        for i in range(epochs):\n",
    "            shuffle_x, shuffle_y = shuffle(train_x, train_y)\n",
    "            epoch_start = time.time()\n",
    "            for offset in range(0, num_examples, batch_size):\n",
    "                end = offset + batch_size\n",
    "                batch_x, batch_y = shuffle_x[offset:end], shuffle_y[offset:end]\n",
    "                sess.run(training_operation, feed_dict={x: batch_x, y: batch_y, keep_prob: 0.5})\n",
    "\n",
    "            validation_accuracy = evaluate(accuracy_operation, batch_size, valid_x, valid_y)\n",
    "            if validation_accuracy > best_vacc:\n",
    "                best_vacc = validation_accuracy\n",
    "                saver.save(sess, save_file)\n",
    "                training_accuracy = evaluate(accuracy_operation, batch_size, train_x, train_y)\n",
    "                print()\n",
    "                print(\"epoch {}: training = {:.3f}, validation {:.3f}, elapsed {:.3f}\".format(i + 1, training_accuracy, validation_accuracy, time.time() - epoch_start))\n",
    "                if best_vacc > 0.98:\n",
    "                    print(\"Reached 98%, stopping\")\n",
    "                    break\n",
    "            else:\n",
    "                print('.', end='')\n",
    "\n",
    "#            if (i < 20) or (i < 1000 and i % 10 == 9) or (i % 100 == 99):\n",
    "#                training_accuracy = evaluate(accuracy_operation, batch_size, train_x, train_y)\n",
    "#                validation_accuracy = evaluate(accuracy_operation, batch_size, valid_x, valid_y)\n",
    "#                print(\"epoch {}: training = {:.3f}, validation {:.3f}, elapsed {:.3f}\".format(i + 1, training_accuracy, validation_accuracy, time.time() - epoch_start))\n",
    "#            else:\n",
    "#                print('.', end='')\n",
    "\n",
    "        #saver.save(sess, save_file)\n",
    "        #print(\"Model saved to {}\".format(save_file))\n",
    "\n",
    "    elapsed_time = time.time() - start_time\n",
    "    print()\n",
    "    print(\"Elapsed Time = {}\".format(elapsed_time))\n",
    "    \n",
    "    return accuracy_operation\n",
    "\n",
    "def test(accuracy_operation, batch_size, test_x, test_y, restore_file):\n",
    "    saver = tf.train.Saver()\n",
    "    with tf.Session() as sess:\n",
    "        saver.restore(sess, restore_file)\n",
    "        accuracy = evaluate(accuracy_operation, batch_size, test_x, test_y)\n",
    "        print(\"test accuracy = {:.3f}\".format(accuracy))"
   ]
  },
  {
   "cell_type": "code",
   "execution_count": null,
   "metadata": {
    "collapsed": false,
    "deletable": true,
    "editable": true,
    "scrolled": false
   },
   "outputs": [],
   "source": [
    "lenet_file = output_dir + '/lenet'\n",
    "lenet, lenet_tensors = LeNet(x)\n",
    "lenet_acc_op = train(lenet, 200, 128, 0.001, X_train, y_train, X_valid, y_valid, lenet_file)"
   ]
  },
  {
   "cell_type": "code",
   "execution_count": null,
   "metadata": {
    "collapsed": false,
    "deletable": true,
    "editable": true
   },
   "outputs": [],
   "source": [
    "test(lenet_acc_op, 128, X_test, y_test, lenet_file)"
   ]
  },
  {
   "cell_type": "code",
   "execution_count": 13,
   "metadata": {
    "collapsed": false,
    "deletable": true,
    "editable": true,
    "scrolled": false
   },
   "outputs": [
    {
     "name": "stdout",
     "output_type": "stream",
     "text": [
      "input x: (?, 32, 32, 3)\n",
      "conv1: (?, 16, 16, 16)\n",
      "conv2: (?, 8, 8, 64)\n",
      "flattened: (?, 4096)\n",
      "fc1: (?, 1024)\n",
      "dropout: (?, 1024)\n",
      "logits: (?, 43)\n",
      "train: epochs 500, batch size 32, learning rate 0.001\n",
      "Model saves to /output/newnet\n",
      "Training...\n",
      "\n",
      "epoch 1: training = 0.833, validation 0.726, elapsed 13.552\n",
      "\n",
      "epoch 2: training = 0.965, validation 0.865, elapsed 13.305\n",
      "\n",
      "epoch 3: training = 0.988, validation 0.905, elapsed 13.400\n",
      "\n",
      "epoch 4: training = 0.992, validation 0.909, elapsed 13.442\n",
      "\n",
      "epoch 5: training = 0.990, validation 0.919, elapsed 13.490\n",
      "\n",
      "epoch 6: training = 0.997, validation 0.927, elapsed 13.355\n",
      "\n",
      "epoch 7: training = 0.997, validation 0.932, elapsed 13.357\n",
      "..\n",
      "epoch 10: training = 0.999, validation 0.934, elapsed 13.435\n",
      "\n",
      "epoch 11: training = 0.999, validation 0.938, elapsed 13.396\n",
      "..\n",
      "epoch 14: training = 0.998, validation 0.940, elapsed 13.461\n",
      "\n",
      "epoch 15: training = 0.999, validation 0.945, elapsed 13.395\n",
      "...........\n",
      "epoch 27: training = 1.000, validation 0.947, elapsed 13.392\n",
      "..\n",
      "epoch 30: training = 1.000, validation 0.947, elapsed 13.362\n",
      "..........\n",
      "epoch 41: training = 1.000, validation 0.949, elapsed 13.331\n",
      "...\n",
      "epoch 45: training = 1.000, validation 0.959, elapsed 13.340\n",
      "........................................................\n",
      "epoch 102: training = 1.000, validation 0.961, elapsed 13.380\n",
      "..................\n",
      "epoch 121: training = 1.000, validation 0.962, elapsed 13.397\n",
      ".......................\n",
      "epoch 145: training = 1.000, validation 0.964, elapsed 13.405\n",
      ".......................................................\n",
      "epoch 201: training = 1.000, validation 0.969, elapsed 13.413\n",
      "................................................\n",
      "epoch 250: training = 1.000, validation 0.970, elapsed 13.361\n",
      "................................................................................................\n",
      "epoch 347: training = 1.000, validation 0.975, elapsed 13.524\n",
      ".........................................................................................................................................................\n",
      "Elapsed Time = 4616.98349404335\n"
     ]
    }
   ],
   "source": [
    "newnet_file = output_dir + '/newnet'\n",
    "newnet, newnet_tensors = NewNet(x, 16, 64)\n",
    "newnet_acc_op = train(newnet, 500, 32, 0.001, X_train, y_train, X_valid, y_valid, newnet_file)"
   ]
  },
  {
   "cell_type": "code",
   "execution_count": 14,
   "metadata": {
    "collapsed": false,
    "deletable": true,
    "editable": true
   },
   "outputs": [
    {
     "name": "stdout",
     "output_type": "stream",
     "text": [
      "test accuracy = 0.951\n"
     ]
    }
   ],
   "source": [
    "test(newnet_acc_op, 128, X_test, y_test, newnet_file)"
   ]
  },
  {
   "cell_type": "markdown",
   "metadata": {
    "deletable": true,
    "editable": true
   },
   "source": [
    "---\n",
    "\n",
    "## Step 3: Test a Model on New Images\n",
    "\n",
    "To give yourself more insight into how your model is working, download at least five pictures of German traffic signs from the web and use your model to predict the traffic sign type.\n",
    "\n",
    "You may find `signnames.csv` useful as it contains mappings from the class id (integer) to the actual sign name."
   ]
  },
  {
   "cell_type": "markdown",
   "metadata": {
    "deletable": true,
    "editable": true
   },
   "source": [
    "### Load and Output the Images"
   ]
  },
  {
   "cell_type": "code",
   "execution_count": 15,
   "metadata": {
    "collapsed": false,
    "deletable": true,
    "editable": true,
    "scrolled": false
   },
   "outputs": [
    {
     "name": "stdout",
     "output_type": "stream",
     "text": [
      "shape: (5, 32, 32, 3), dtype: uint8\n"
     ]
    },
    {
     "data": {
      "image/png": "[encoded data removed]",
      "text/plain": [
       "<matplotlib.figure.Figure at 0x7fc813a7b320>"
      ]
     },
     "metadata": {},
     "output_type": "display_data"
    },
    {
     "data": {
      "image/png": "[encoded data removed]",
      "text/plain": [
       "<matplotlib.figure.Figure at 0x7fc7e5b01710>"
      ]
     },
     "metadata": {},
     "output_type": "display_data"
    },
    {
     "data": {
      "image/png": "[encoded data removed]",
      "text/plain": [
       "<matplotlib.figure.Figure at 0x7fc7dcb56cf8>"
      ]
     },
     "metadata": {},
     "output_type": "display_data"
    },
    {
     "data": {
      "image/png": "[encoded data removed]",
      "text/plain": [
       "<matplotlib.figure.Figure at 0x7fc77c757860>"
      ]
     },
     "metadata": {},
     "output_type": "display_data"
    },
    {
     "data": {
      "image/png": "[encoded data removed]",
      "text/plain": [
       "<matplotlib.figure.Figure at 0x7fc77c7b1c50>"
      ]
     },
     "metadata": {},
     "output_type": "display_data"
    },
    {
     "name": "stdout",
     "output_type": "stream",
     "text": [
      "shape: (5, 32, 32, 3), dtype: float32\n"
     ]
    }
   ],
   "source": [
    "### Load the images and plot them here.\n",
    "### Feel free to use as many code cells as needed.\n",
    "import os\n",
    "\n",
    "filenames = os.listdir('test-images')\n",
    "imgs = np.array([plt.imread('test-images/{}'.format(f)) for f in filenames])\n",
    "print(\"shape: {}, dtype: {}\".format(imgs.shape, imgs.dtype))\n",
    "for img in imgs:\n",
    "    plt.imshow(img)\n",
    "    plt.show()\n",
    "\n",
    "imgs = preprocess(imgs)\n",
    "print(\"shape: {}, dtype: {}\".format(imgs.shape, imgs.dtype))\n"
   ]
  },
  {
   "cell_type": "markdown",
   "metadata": {
    "deletable": true,
    "editable": true
   },
   "source": [
    "### Predict the Sign Type for Each Image"
   ]
  },
  {
   "cell_type": "code",
   "execution_count": 16,
   "metadata": {
    "collapsed": false,
    "deletable": true,
    "editable": true
   },
   "outputs": [],
   "source": [
    "### Run the predictions here and use the model to output the prediction for each image.\n",
    "### Make sure to pre-process the images with the same pre-processing pipeline used earlier.\n",
    "### Feel free to use as many code cells as needed.\n",
    "\n",
    "def predict(logits, predict_X, restore_file):\n",
    "    saver = tf.train.Saver()\n",
    "    predictor = tf.argmax(tf.nn.softmax(logits), 1)\n",
    "    with tf.Session() as sess:\n",
    "        saver.restore(sess, restore_file)\n",
    "        predictions = sess.run(predictor, feed_dict={x:predict_X, keep_prob: 1.0})\n",
    "        \n",
    "    return predictions\n",
    "\n",
    "def print_predictions(predictions):\n",
    "    for i in range(len(predictions)):\n",
    "        p = predictions[i]\n",
    "        f = filenames[i]\n",
    "        print(\"file: {}, predicted: [{}] {}\".format(f, p, sign_labels[p]))\n",
    "\n"
   ]
  },
  {
   "cell_type": "code",
   "execution_count": 17,
   "metadata": {
    "collapsed": false,
    "deletable": true,
    "editable": true,
    "scrolled": false
   },
   "outputs": [
    {
     "name": "stdout",
     "output_type": "stream",
     "text": [
      "file: direction-down-right.jpg, predicted: [38] Keep right\n",
      "file: children-crossing.jpg, predicted: [28] Children crossing\n",
      "file: quayside-or-riverbank.jpg, predicted: [29] Bicycles crossing\n",
      "file: no-stop.jpg, predicted: [14] Stop\n",
      "file: speed-limit-60.jpg, predicted: [5] Speed limit (80km/h)\n"
     ]
    }
   ],
   "source": [
    "print_predictions(predict(newnet, imgs, newnet_file))"
   ]
  },
  {
   "cell_type": "markdown",
   "metadata": {
    "deletable": true,
    "editable": true
   },
   "source": [
    "### Analyze Performance"
   ]
  },
  {
   "cell_type": "code",
   "execution_count": null,
   "metadata": {
    "collapsed": true,
    "deletable": true,
    "editable": true
   },
   "outputs": [],
   "source": [
    "### Calculate the accuracy for these 5 new images. \n",
    "### For example, if the model predicted 1 out of 5 signs correctly, it's 20% accurate on these new images."
   ]
  },
  {
   "cell_type": "markdown",
   "metadata": {
    "deletable": true,
    "editable": true
   },
   "source": [
    "### Output Top 5 Softmax Probabilities For Each Image Found on the Web"
   ]
  },
  {
   "cell_type": "markdown",
   "metadata": {
    "deletable": true,
    "editable": true
   },
   "source": [
    "For each of the new images, print out the model's softmax probabilities to show the **certainty** of the model's predictions (limit the output to the top 5 probabilities for each image). [`tf.nn.top_k`](https://www.tensorflow.org/versions/r0.12/api_docs/python/nn.html#top_k) could prove helpful here. \n",
    "\n",
    "The example below demonstrates how tf.nn.top_k can be used to find the top k predictions for each image.\n",
    "\n",
    "`tf.nn.top_k` will return the values and indices (class ids) of the top k predictions. So if k=3, for each sign, it'll return the 3 largest probabilities (out of a possible 43) and the correspoding class ids.\n",
    "\n",
    "Take this numpy array as an example. The values in the array represent predictions. The array contains softmax probabilities for five candidate images with six possible classes. `tk.nn.top_k` is used to choose the three classes with the highest probability:\n",
    "\n",
    "```\n",
    "# (5, 6) array\n",
    "a = np.array([[ 0.24879643,  0.07032244,  0.12641572,  0.34763842,  0.07893497,\n",
    "         0.12789202],\n",
    "       [ 0.28086119,  0.27569815,  0.08594638,  0.0178669 ,  0.18063401,\n",
    "         0.15899337],\n",
    "       [ 0.26076848,  0.23664738,  0.08020603,  0.07001922,  0.1134371 ,\n",
    "         0.23892179],\n",
    "       [ 0.11943333,  0.29198961,  0.02605103,  0.26234032,  0.1351348 ,\n",
    "         0.16505091],\n",
    "       [ 0.09561176,  0.34396535,  0.0643941 ,  0.16240774,  0.24206137,\n",
    "         0.09155967]])\n",
    "```\n",
    "\n",
    "Running it through `sess.run(tf.nn.top_k(tf.constant(a), k=3))` produces:\n",
    "\n",
    "```\n",
    "TopKV2(values=array([[ 0.34763842,  0.24879643,  0.12789202],\n",
    "       [ 0.28086119,  0.27569815,  0.18063401],\n",
    "       [ 0.26076848,  0.23892179,  0.23664738],\n",
    "       [ 0.29198961,  0.26234032,  0.16505091],\n",
    "       [ 0.34396535,  0.24206137,  0.16240774]]), indices=array([[3, 0, 5],\n",
    "       [0, 1, 4],\n",
    "       [0, 5, 1],\n",
    "       [1, 3, 5],\n",
    "       [1, 4, 3]], dtype=int32))\n",
    "```\n",
    "\n",
    "Looking just at the first row we get `[ 0.34763842,  0.24879643,  0.12789202]`, you can confirm these are the 3 largest probabilities in `a`. You'll also notice `[3, 0, 5]` are the corresponding indices."
   ]
  },
  {
   "cell_type": "code",
   "execution_count": 18,
   "metadata": {
    "collapsed": false,
    "deletable": true,
    "editable": true
   },
   "outputs": [],
   "source": [
    "### Print out the top five softmax probabilities for the predictions on the German traffic sign images found on the web. \n",
    "### Feel free to use as many code cells as needed.\n",
    "def top_5(logits, predict_X, restore_file):\n",
    "    saver = tf.train.Saver()\n",
    "    top_5 = tf.nn.top_k(tf.nn.softmax(logits), k=5)\n",
    "    with tf.Session() as sess:\n",
    "        saver.restore(sess, restore_file)\n",
    "        top = sess.run(top_5, feed_dict={x:predict_X, keep_prob: 1.0})\n",
    "        \n",
    "    return top"
   ]
  },
  {
   "cell_type": "code",
   "execution_count": 19,
   "metadata": {
    "collapsed": false,
    "deletable": true,
    "editable": true
   },
   "outputs": [
    {
     "name": "stdout",
     "output_type": "stream",
     "text": [
      "TopKV2(values=array([[  1.00000000e+00,   0.00000000e+00,   0.00000000e+00,\n",
      "          0.00000000e+00,   0.00000000e+00],\n",
      "       [  1.00000000e+00,   0.00000000e+00,   0.00000000e+00,\n",
      "          0.00000000e+00,   0.00000000e+00],\n",
      "       [  1.00000000e+00,   0.00000000e+00,   0.00000000e+00,\n",
      "          0.00000000e+00,   0.00000000e+00],\n",
      "       [  1.00000000e+00,   2.15152327e-19,   0.00000000e+00,\n",
      "          0.00000000e+00,   0.00000000e+00],\n",
      "       [  1.00000000e+00,   0.00000000e+00,   0.00000000e+00,\n",
      "          0.00000000e+00,   0.00000000e+00]], dtype=float32), indices=array([[38,  0,  1,  2,  3],\n",
      "       [28,  0,  1,  2,  3],\n",
      "       [29,  0,  1,  2,  3],\n",
      "       [14, 17,  0,  1,  2],\n",
      "       [ 5,  0,  1,  2,  3]], dtype=int32))\n"
     ]
    }
   ],
   "source": [
    "print(top_5(newnet, imgs, newnet_file))"
   ]
  },
  {
   "cell_type": "markdown",
   "metadata": {
    "deletable": true,
    "editable": true
   },
   "source": [
    "---\n",
    "\n",
    "## Step 4: Visualize the Neural Network's State with Test Images\n",
    "\n",
    " This Section is not required to complete but acts as an additional excersise for understaning the output of a neural network's weights. While neural networks can be a great learning device they are often referred to as a black box. We can understand what the weights of a neural network look like better by plotting their feature maps. After successfully training your neural network you can see what it's feature maps look like by plotting the output of the network's weight layers in response to a test stimuli image. From these plotted feature maps, it's possible to see what characteristics of an image the network finds interesting. For a sign, maybe the inner network feature maps react with high activation to the sign's boundary outline or to the contrast in the sign's painted symbol.\n",
    "\n",
    " Provided for you below is the function code that allows you to get the visualization output of any tensorflow weight layer you want. The inputs to the function should be a stimuli image, one used during training or a new one you provided, and then the tensorflow variable name that represents the layer's state during the training process, for instance if you wanted to see what the [LeNet lab's](https://classroom.udacity.com/nanodegrees/nd013/parts/fbf77062-5703-404e-b60c-95b78b2f3f9e/modules/6df7ae49-c61c-4bb2-a23e-6527e69209ec/lessons/601ae704-1035-4287-8b11-e2c2716217ad/concepts/d4aca031-508f-4e0b-b493-e7b706120f81) feature maps looked like for it's second convolutional layer you could enter conv2 as the tf_activation variable.\n",
    "\n",
    "For an example of what feature map outputs look like, check out NVIDIA's results in their paper [End-to-End Deep Learning for Self-Driving Cars](https://devblogs.nvidia.com/parallelforall/deep-learning-self-driving-cars/) in the section Visualization of internal CNN State. NVIDIA was able to show that their network's inner weights had high activations to road boundary lines by comparing feature maps from an image with a clear path to one without. Try experimenting with a similar test to show that your trained network's weights are looking for interesting features, whether it's looking at differences in feature maps from images with or without a sign, or even what feature maps look like in a trained network vs a completely untrained one on the same sign image.\n",
    "\n",
    "<figure>\n",
    " <img src=\"visualize_cnn.png\" width=\"380\" alt=\"Combined Image\" />\n",
    " <figcaption>\n",
    " <p></p> \n",
    " <p style=\"text-align: center;\"> Your output should look something like this (above)</p> \n",
    " </figcaption>\n",
    "</figure>\n",
    " <p></p> \n"
   ]
  },
  {
   "cell_type": "code",
   "execution_count": 25,
   "metadata": {
    "collapsed": true,
    "deletable": true,
    "editable": true
   },
   "outputs": [],
   "source": [
    "### Visualize your network's feature maps here.\n",
    "### Feel free to use as many code cells as needed.\n",
    "\n",
    "# image_input: the test image being fed into the network to produce the feature maps\n",
    "# tf_activation: should be a tf variable name used during your training procedure that represents the calculated state of a specific weight layer\n",
    "# activation_min/max: can be used to view the activation contrast in more detail, by default matplot sets min and max to the actual min and max values of the output\n",
    "# plt_num: used to plot out multiple different weight feature map sets on the same block, just extend the plt number for each new feature map entry\n",
    "\n",
    "def outputFeatureMap(sess, image_input, tf_activation, activation_min=-1, activation_max=-1 ,plt_num=1):\n",
    "    # Here make sure to preprocess your image_input in a way your network expects\n",
    "    # with size, normalization, ect if needed\n",
    "    # image_input =\n",
    "    # Note: x should be the same name as your network's tensorflow data placeholder variable\n",
    "    # If you get an error tf_activation is not defined it maybe having trouble accessing the variable from inside a function\n",
    "    activation = tf_activation.eval(session=sess,feed_dict={x : image_input})\n",
    "    featuremaps = activation.shape[3]\n",
    "    plt.figure(plt_num, figsize=(15,15))\n",
    "    for featuremap in range(featuremaps):\n",
    "        plt.subplot(8,6, featuremap+1) # sets the number of feature maps to show on each row and column\n",
    "        plt.title('FeatureMap ' + str(featuremap)) # displays the feature map number\n",
    "        if activation_min != -1 & activation_max != -1:\n",
    "            plt.imshow(activation[0,:,:, featuremap], interpolation=\"nearest\", vmin =activation_min, vmax=activation_max, cmap=\"gray\")\n",
    "        elif activation_max != -1:\n",
    "            plt.imshow(activation[0,:,:, featuremap], interpolation=\"nearest\", vmax=activation_max, cmap=\"gray\")\n",
    "        elif activation_min !=-1:\n",
    "            plt.imshow(activation[0,:,:, featuremap], interpolation=\"nearest\", vmin=activation_min, cmap=\"gray\")\n",
    "        else:\n",
    "            plt.imshow(activation[0,:,:, featuremap], interpolation=\"nearest\", cmap=\"gray\")"
   ]
  },
  {
   "cell_type": "code",
   "execution_count": 32,
   "metadata": {
    "collapsed": false,
    "deletable": true,
    "editable": true,
    "scrolled": false
   },
   "outputs": [],
   "source": [
    "def visualize(restore_file, tensors):\n",
    "    with tf.Session() as sess:\n",
    "        saver = tf.train.Saver()\n",
    "        saver.restore(sess, restore_file)\n",
    "\n",
    "        img = X_train[500]\n",
    "        plt.imshow(img)\n",
    "        plt.show()\n",
    "        #outputFeatureMap(sess, [img], sess.graph.get_tensor_by_name('conv1:0'))\n",
    "        outputFeatureMap(sess, [img], tensors['conv1'])\n",
    "        plt.show()\n",
    "\n",
    "        img = imgs[2]\n",
    "        plt.imshow(img)\n",
    "        plt.show()\n",
    "        outputFeatureMap(sess, [img], tensors['conv1'])\n",
    "        plt.show()\n"
   ]
  },
  {
   "cell_type": "code",
   "execution_count": 33,
   "metadata": {
    "collapsed": false,
    "deletable": true,
    "editable": true,
    "scrolled": false
   },
   "outputs": [
    {
     "data": {
      "image/png": "[encoded data removed]",
      "text/plain": [
       "<matplotlib.figure.Figure at 0x7fc73e590a20>"
      ]
     },
     "metadata": {},
     "output_type": "display_data"
    },
    {
     "data": {
      "image/png": "[encoded data removed]",
      "text/plain": [
       "<matplotlib.figure.Figure at 0x7fc73efe16d8>"
      ]
     },
     "metadata": {},
     "output_type": "display_data"
    },
    {
     "data": {
      "image/png": "[encoded data removed]",
      "text/plain": [
       "<matplotlib.figure.Figure at 0x7fc73f0c2940>"
      ]
     },
     "metadata": {},
     "output_type": "display_data"
    },
    {
     "data": {
      "image/png": "[encoded data removed]",
      "text/plain": [
       "<matplotlib.figure.Figure at 0x7fc73ebe68d0>"
      ]
     },
     "metadata": {},
     "output_type": "display_data"
    }
   ],
   "source": [
    "#visualize(lenet_file, lenet_tensors)\n",
    "visualize(newnet_file, newnet_tensors)"
   ]
  },
  {
   "cell_type": "markdown",
   "metadata": {
    "deletable": true,
    "editable": true
   },
   "source": [
    "### Question 9\n",
    "\n",
    "Discuss how you used the visual output of your trained network's feature maps to show that it had learned to look for interesting characteristics in traffic sign images\n"
   ]
  },
  {
   "cell_type": "markdown",
   "metadata": {
    "deletable": true,
    "editable": true
   },
   "source": [
    "**Answer:**\n",
    "Interesting that in FeatureMap 2 between a training image and an image from the internet, both are activating the triangle."
   ]
  },
  {
   "cell_type": "markdown",
   "metadata": {
    "deletable": true,
    "editable": true
   },
   "source": [
    "> **Note**: Once you have completed all of the code implementations and successfully answered each question above, you may finalize your work by exporting the iPython Notebook as an HTML document. You can do this by using the menu above and navigating to  \\n\",\n",
    "    \"**File -> Download as -> HTML (.html)**. Include the finished document along with this notebook as your submission."
   ]
  },
  {
   "cell_type": "markdown",
   "metadata": {
    "deletable": true,
    "editable": true
   },
   "source": [
    "### Project Writeup\n",
    "\n",
    "Once you have completed the code implementation, document your results in a project writeup using this [template](https://github.com/udacity/CarND-Traffic-Sign-Classifier-Project/blob/master/writeup_template.md) as a guide. The writeup can be in a markdown or pdf file. "
   ]
  }
 ],
 "metadata": {
  "anaconda-cloud": {},
  "kernelspec": {
   "display_name": "Python 3",
   "language": "python",
   "name": "python3"
  },
  "language_info": {
   "codemirror_mode": {
    "name": "ipython",
    "version": 3
   },
   "file_extension": ".py",
   "mimetype": "text/x-python",
   "name": "python",
   "nbconvert_exporter": "python",
   "pygments_lexer": "ipython3",
   "version": "3.5.3"
  },
  "widgets": {
   "state": {},
   "version": "1.1.2"
  }
 },
 "nbformat": 4,
 "nbformat_minor": 1
}
